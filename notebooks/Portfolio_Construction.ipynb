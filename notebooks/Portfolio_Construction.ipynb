{
  "nbformat": 4,
  "nbformat_minor": 0,
  "metadata": {
    "colab": {
      "provenance": []
    },
    "kernelspec": {
      "name": "python3",
      "display_name": "Python 3"
    },
    "language_info": {
      "name": "python"
    }
  },
  "cells": [
    {
      "cell_type": "code",
      "execution_count": null,
      "metadata": {
        "colab": {
          "base_uri": "https://localhost:8080/"
        },
        "id": "8WRmYBYxVQhU",
        "outputId": "331345c9-be0b-4ab1-c0cb-e815bc515b26"
      },
      "outputs": [
        {
          "output_type": "stream",
          "name": "stdout",
          "text": [
            "Mounted at /content/drive\n"
          ]
        }
      ],
      "source": [
        "from google.colab import drive\n",
        "drive.mount('/content/drive')"
      ]
    },
    {
      "cell_type": "code",
      "source": [
        "from google.colab import files\n",
        "uploaded = files.upload()"
      ],
      "metadata": {
        "colab": {
          "base_uri": "https://localhost:8080/",
          "height": 142
        },
        "id": "v_MfcsmOYCQ-",
        "outputId": "9e44fb39-eae8-44f4-bc95-03a34beeafea"
      },
      "execution_count": null,
      "outputs": [
        {
          "output_type": "display_data",
          "data": {
            "text/plain": [
              "<IPython.core.display.HTML object>"
            ],
            "text/html": [
              "\n",
              "     <input type=\"file\" id=\"files-fc0cf1a2-425a-4882-9ea4-4bb3d2893943\" name=\"files[]\" multiple disabled\n",
              "        style=\"border:none\" />\n",
              "     <output id=\"result-fc0cf1a2-425a-4882-9ea4-4bb3d2893943\">\n",
              "      Upload widget is only available when the cell has been executed in the\n",
              "      current browser session. Please rerun this cell to enable.\n",
              "      </output>\n",
              "      <script>// Copyright 2017 Google LLC\n",
              "//\n",
              "// Licensed under the Apache License, Version 2.0 (the \"License\");\n",
              "// you may not use this file except in compliance with the License.\n",
              "// You may obtain a copy of the License at\n",
              "//\n",
              "//      http://www.apache.org/licenses/LICENSE-2.0\n",
              "//\n",
              "// Unless required by applicable law or agreed to in writing, software\n",
              "// distributed under the License is distributed on an \"AS IS\" BASIS,\n",
              "// WITHOUT WARRANTIES OR CONDITIONS OF ANY KIND, either express or implied.\n",
              "// See the License for the specific language governing permissions and\n",
              "// limitations under the License.\n",
              "\n",
              "/**\n",
              " * @fileoverview Helpers for google.colab Python module.\n",
              " */\n",
              "(function(scope) {\n",
              "function span(text, styleAttributes = {}) {\n",
              "  const element = document.createElement('span');\n",
              "  element.textContent = text;\n",
              "  for (const key of Object.keys(styleAttributes)) {\n",
              "    element.style[key] = styleAttributes[key];\n",
              "  }\n",
              "  return element;\n",
              "}\n",
              "\n",
              "// Max number of bytes which will be uploaded at a time.\n",
              "const MAX_PAYLOAD_SIZE = 100 * 1024;\n",
              "\n",
              "function _uploadFiles(inputId, outputId) {\n",
              "  const steps = uploadFilesStep(inputId, outputId);\n",
              "  const outputElement = document.getElementById(outputId);\n",
              "  // Cache steps on the outputElement to make it available for the next call\n",
              "  // to uploadFilesContinue from Python.\n",
              "  outputElement.steps = steps;\n",
              "\n",
              "  return _uploadFilesContinue(outputId);\n",
              "}\n",
              "\n",
              "// This is roughly an async generator (not supported in the browser yet),\n",
              "// where there are multiple asynchronous steps and the Python side is going\n",
              "// to poll for completion of each step.\n",
              "// This uses a Promise to block the python side on completion of each step,\n",
              "// then passes the result of the previous step as the input to the next step.\n",
              "function _uploadFilesContinue(outputId) {\n",
              "  const outputElement = document.getElementById(outputId);\n",
              "  const steps = outputElement.steps;\n",
              "\n",
              "  const next = steps.next(outputElement.lastPromiseValue);\n",
              "  return Promise.resolve(next.value.promise).then((value) => {\n",
              "    // Cache the last promise value to make it available to the next\n",
              "    // step of the generator.\n",
              "    outputElement.lastPromiseValue = value;\n",
              "    return next.value.response;\n",
              "  });\n",
              "}\n",
              "\n",
              "/**\n",
              " * Generator function which is called between each async step of the upload\n",
              " * process.\n",
              " * @param {string} inputId Element ID of the input file picker element.\n",
              " * @param {string} outputId Element ID of the output display.\n",
              " * @return {!Iterable<!Object>} Iterable of next steps.\n",
              " */\n",
              "function* uploadFilesStep(inputId, outputId) {\n",
              "  const inputElement = document.getElementById(inputId);\n",
              "  inputElement.disabled = false;\n",
              "\n",
              "  const outputElement = document.getElementById(outputId);\n",
              "  outputElement.innerHTML = '';\n",
              "\n",
              "  const pickedPromise = new Promise((resolve) => {\n",
              "    inputElement.addEventListener('change', (e) => {\n",
              "      resolve(e.target.files);\n",
              "    });\n",
              "  });\n",
              "\n",
              "  const cancel = document.createElement('button');\n",
              "  inputElement.parentElement.appendChild(cancel);\n",
              "  cancel.textContent = 'Cancel upload';\n",
              "  const cancelPromise = new Promise((resolve) => {\n",
              "    cancel.onclick = () => {\n",
              "      resolve(null);\n",
              "    };\n",
              "  });\n",
              "\n",
              "  // Wait for the user to pick the files.\n",
              "  const files = yield {\n",
              "    promise: Promise.race([pickedPromise, cancelPromise]),\n",
              "    response: {\n",
              "      action: 'starting',\n",
              "    }\n",
              "  };\n",
              "\n",
              "  cancel.remove();\n",
              "\n",
              "  // Disable the input element since further picks are not allowed.\n",
              "  inputElement.disabled = true;\n",
              "\n",
              "  if (!files) {\n",
              "    return {\n",
              "      response: {\n",
              "        action: 'complete',\n",
              "      }\n",
              "    };\n",
              "  }\n",
              "\n",
              "  for (const file of files) {\n",
              "    const li = document.createElement('li');\n",
              "    li.append(span(file.name, {fontWeight: 'bold'}));\n",
              "    li.append(span(\n",
              "        `(${file.type || 'n/a'}) - ${file.size} bytes, ` +\n",
              "        `last modified: ${\n",
              "            file.lastModifiedDate ? file.lastModifiedDate.toLocaleDateString() :\n",
              "                                    'n/a'} - `));\n",
              "    const percent = span('0% done');\n",
              "    li.appendChild(percent);\n",
              "\n",
              "    outputElement.appendChild(li);\n",
              "\n",
              "    const fileDataPromise = new Promise((resolve) => {\n",
              "      const reader = new FileReader();\n",
              "      reader.onload = (e) => {\n",
              "        resolve(e.target.result);\n",
              "      };\n",
              "      reader.readAsArrayBuffer(file);\n",
              "    });\n",
              "    // Wait for the data to be ready.\n",
              "    let fileData = yield {\n",
              "      promise: fileDataPromise,\n",
              "      response: {\n",
              "        action: 'continue',\n",
              "      }\n",
              "    };\n",
              "\n",
              "    // Use a chunked sending to avoid message size limits. See b/62115660.\n",
              "    let position = 0;\n",
              "    do {\n",
              "      const length = Math.min(fileData.byteLength - position, MAX_PAYLOAD_SIZE);\n",
              "      const chunk = new Uint8Array(fileData, position, length);\n",
              "      position += length;\n",
              "\n",
              "      const base64 = btoa(String.fromCharCode.apply(null, chunk));\n",
              "      yield {\n",
              "        response: {\n",
              "          action: 'append',\n",
              "          file: file.name,\n",
              "          data: base64,\n",
              "        },\n",
              "      };\n",
              "\n",
              "      let percentDone = fileData.byteLength === 0 ?\n",
              "          100 :\n",
              "          Math.round((position / fileData.byteLength) * 100);\n",
              "      percent.textContent = `${percentDone}% done`;\n",
              "\n",
              "    } while (position < fileData.byteLength);\n",
              "  }\n",
              "\n",
              "  // All done.\n",
              "  yield {\n",
              "    response: {\n",
              "      action: 'complete',\n",
              "    }\n",
              "  };\n",
              "}\n",
              "\n",
              "scope.google = scope.google || {};\n",
              "scope.google.colab = scope.google.colab || {};\n",
              "scope.google.colab._files = {\n",
              "  _uploadFiles,\n",
              "  _uploadFilesContinue,\n",
              "};\n",
              "})(self);\n",
              "</script> "
            ]
          },
          "metadata": {}
        },
        {
          "output_type": "stream",
          "name": "stdout",
          "text": [
            "Saving ARIMA_Merged_LogReturns_Final.csv to ARIMA_Merged_LogReturns_Final.csv\n",
            "Saving LSTM_Merged_LogReturns_Final.csv to LSTM_Merged_LogReturns_Final.csv\n",
            "Saving Mamba_Merged_LogReturns_Final.csv to Mamba_Merged_LogReturns_Final.csv\n"
          ]
        }
      ]
    },
    {
      "cell_type": "code",
      "source": [
        "import pandas as pd\n",
        "import re"
      ],
      "metadata": {
        "id": "wBSlNnjWYH81"
      },
      "execution_count": null,
      "outputs": []
    },
    {
      "cell_type": "code",
      "source": [
        "# Function to check and fix date format\n",
        "def fix_date_format(df):\n",
        "    sample_dates = df[\"Date\"].dropna().astype(str).head(5)\n",
        "    pattern = re.compile(r\"^\\d{4}-\\d{2}-\\d{2}$\")\n",
        "\n",
        "    if all(pattern.match(str(d)) for d in sample_dates):\n",
        "        print(\"✅ Date format already correct.\")\n",
        "    else:\n",
        "        print(\"⚠ Fixing date format...\")\n",
        "        df[\"Date\"] = pd.to_datetime(df[\"Date\"], errors=\"coerce\").dt.strftime(\"%Y-%m-%d\")\n",
        "    return df"
      ],
      "metadata": {
        "id": "nSlgylwDYXXF"
      },
      "execution_count": null,
      "outputs": []
    },
    {
      "cell_type": "code",
      "source": [
        "# ✅ File paths (Update if needed)\n",
        "arima_file = \"/content/ARIMA_Merged_LogReturns_Final.csv\"\n",
        "lstm_file = \"/content/LSTM_Merged_LogReturns_Final.csv\"\n",
        "mamba_file = \"/content/Mamba_Merged_LogReturns_Final.csv\"\n"
      ],
      "metadata": {
        "id": "g_WZ0GPPYaRW"
      },
      "execution_count": null,
      "outputs": []
    },
    {
      "cell_type": "code",
      "source": [
        "# Load data\n",
        "arima_df = pd.read_csv(arima_file)\n",
        "lstm_df = pd.read_csv(lstm_file)\n",
        "mamba_df = pd.read_csv(mamba_file)\n"
      ],
      "metadata": {
        "id": "vQ3ogVPSYb6t"
      },
      "execution_count": null,
      "outputs": []
    },
    {
      "cell_type": "code",
      "source": [
        "# ✅ Align on common range\n",
        "start_date = max(arima_df[\"Date\"].min(), lstm_df[\"Date\"].min(), mamba_df[\"Date\"].min())\n",
        "end_date = min(arima_df[\"Date\"].max(), lstm_df[\"Date\"].max(), mamba_df[\"Date\"].max())"
      ],
      "metadata": {
        "id": "I3QocAk_YdQF"
      },
      "execution_count": null,
      "outputs": []
    },
    {
      "cell_type": "code",
      "source": [
        "# ✅ Align on common range\n",
        "arima_df = arima_df[(arima_df[\"Date\"] >= start_date) & (arima_df[\"Date\"] <= end_date)]\n",
        "lstm_df = lstm_df[(lstm_df[\"Date\"] >= start_date) & (lstm_df[\"Date\"] <= end_date)]\n",
        "mamba_df = mamba_df[(mamba_df[\"Date\"] >= start_date) & (mamba_df[\"Date\"] <= end_date)]\n",
        "\n",
        "# ✅ Sort by Date\n",
        "arima_df.sort_values(by=\"Date\", inplace=True)\n",
        "lstm_df.sort_values(by=\"Date\", inplace=True)\n",
        "mamba_df.sort_values(by=\"Date\", inplace=True)"
      ],
      "metadata": {
        "colab": {
          "base_uri": "https://localhost:8080/"
        },
        "id": "0ocoi6yHYfol",
        "outputId": "6c7d5c8d-658d-4384-a0d8-c7a69a19a28e"
      },
      "execution_count": null,
      "outputs": [
        {
          "output_type": "stream",
          "name": "stderr",
          "text": [
            "/tmp/ipython-input-10-2207313757.py:7: SettingWithCopyWarning: \n",
            "A value is trying to be set on a copy of a slice from a DataFrame\n",
            "\n",
            "See the caveats in the documentation: https://pandas.pydata.org/pandas-docs/stable/user_guide/indexing.html#returning-a-view-versus-a-copy\n",
            "  arima_df.sort_values(by=\"Date\", inplace=True)\n",
            "/tmp/ipython-input-10-2207313757.py:9: SettingWithCopyWarning: \n",
            "A value is trying to be set on a copy of a slice from a DataFrame\n",
            "\n",
            "See the caveats in the documentation: https://pandas.pydata.org/pandas-docs/stable/user_guide/indexing.html#returning-a-view-versus-a-copy\n",
            "  mamba_df.sort_values(by=\"Date\", inplace=True)\n"
          ]
        }
      ]
    },
    {
      "cell_type": "code",
      "source": [
        "# ✅ Standard stock order\n",
        "stock_order = [\"Apple\", \"Amazon\", \"Meta\", \"Google\", \"Costco\", \"Microsoft\", \"Netflix\", \"Starbucks\", \"Tesla\", \"Amgen\"]"
      ],
      "metadata": {
        "id": "GKOuTH_hYmQm"
      },
      "execution_count": null,
      "outputs": []
    },
    {
      "cell_type": "code",
      "source": [
        "# ✅ Rename and reorder columns\n",
        "def reorder_columns(df, model_name):\n",
        "    mapping = {}\n",
        "    for col in df.columns:\n",
        "        if col != \"Date\":\n",
        "            for stock in stock_order:\n",
        "                if stock.lower() in col.lower():\n",
        "                    mapping[col] = f\"{stock}_{model_name}_LogReturns\"\n",
        "                    break\n",
        "    return df.rename(columns=mapping)[[\"Date\"] + list(mapping.values())]"
      ],
      "metadata": {
        "id": "oH_iItjeYoHt"
      },
      "execution_count": null,
      "outputs": []
    },
    {
      "cell_type": "code",
      "source": [
        "arima_df = reorder_columns(arima_df, \"ARIMA\")\n",
        "lstm_df = reorder_columns(lstm_df, \"LSTM\")\n",
        "mamba_df = reorder_columns(mamba_df, \"Mamba\")"
      ],
      "metadata": {
        "id": "1Atg0ivnY0hl"
      },
      "execution_count": null,
      "outputs": []
    },
    {
      "cell_type": "code",
      "source": [
        "arima_df = arima_df.drop_duplicates(subset=\"Date\")\n",
        "lstm_df = lstm_df.drop_duplicates(subset=\"Date\")\n",
        "mamba_df = mamba_df.drop_duplicates(subset=\"Date\")\n",
        "\n",
        "# ✅ Merge into master DataFrame\n",
        "master_df = arima_df.merge(lstm_df, on=\"Date\", how=\"inner\").merge(mamba_df, on=\"Date\", how=\"inner\")\n",
        "master_df.sort_values(by=\"Date\", inplace=True)\n",
        "master_df.reset_index(drop=True, inplace=True)\n"
      ],
      "metadata": {
        "id": "xtZalvfuY2AF"
      },
      "execution_count": null,
      "outputs": []
    },
    {
      "cell_type": "code",
      "source": [
        "print(\"✅ First 5 rows:\")\n",
        "print(master_df.head())\n",
        "print(\"\\n✅ Last 5 rows:\")\n",
        "print(master_df.tail())\n"
      ],
      "metadata": {
        "colab": {
          "base_uri": "https://localhost:8080/"
        },
        "id": "ZQOtq21pY9Y9",
        "outputId": "9f902ec8-b7b0-476b-8ed1-3cbefc5bf9fd"
      },
      "execution_count": null,
      "outputs": [
        {
          "output_type": "stream",
          "name": "stdout",
          "text": [
            "✅ First 5 rows:\n",
            "         Date  Tesla_ARIMA_LogReturns  Starbucks_ARIMA_LogReturns  \\\n",
            "0  2023-01-04                0.006468                   -0.001965   \n",
            "1  2023-01-05               -0.005236                   -0.001753   \n",
            "2  2023-01-06               -0.000097                   -0.002190   \n",
            "3  2023-01-09               -0.003492                   -0.004392   \n",
            "4  2023-01-10               -0.005349                    0.000223   \n",
            "\n",
            "   Netflix_ARIMA_LogReturns  Microsoft_ARIMA_LogReturns  \\\n",
            "0                  0.001621                   -0.001651   \n",
            "1                 -0.000532                    0.001721   \n",
            "2                  0.001828                    0.003402   \n",
            "3                  0.000523                    0.005785   \n",
            "4                 -0.001197                    0.001893   \n",
            "\n",
            "   Meta_ARIMA_LogReturns  Google_ARIMA_LogReturns  Costco_ARIMA_LogReturns  \\\n",
            "0              -0.001856                -0.000311                 0.000184   \n",
            "1              -0.001646                 0.000323                 0.000544   \n",
            "2              -0.001394                 0.000631                 0.000020   \n",
            "3              -0.001540                -0.000391                 0.001670   \n",
            "4              -0.001306                -0.000243                 0.000373   \n",
            "\n",
            "   Amgen_ARIMA_LogReturns  Amazon_ARIMA_LogReturns  ...  \\\n",
            "0               -0.000806                -0.000872  ...   \n",
            "1                0.000896                -0.001358  ...   \n",
            "2                0.001613                -0.001628  ...   \n",
            "3                0.000985                -0.000707  ...   \n",
            "4               -0.000500                -0.000939  ...   \n",
            "\n",
            "   Netflix_Mamba_LogReturns  Starbucks_Mamba_LogReturns  \\\n",
            "0                 -0.185486                    1.005221   \n",
            "1                  0.046002                    0.305377   \n",
            "2                 -0.839743                    0.002712   \n",
            "3                  0.480163                   -0.420644   \n",
            "4                  0.594870                    0.348900   \n",
            "\n",
            "   Tesla_Mamba_LogReturns  Amazon_Mamba_LogReturns  Amgen_Mamba_LogReturns  \\\n",
            "0                0.229494                 0.070175               -0.230557   \n",
            "1               -0.339092                -0.005264                0.175184   \n",
            "2               -0.076121                -0.680437               -0.509461   \n",
            "3                0.019988                 0.092886                0.650185   \n",
            "4                0.135093                -0.467184                0.280126   \n",
            "\n",
            "   Apple_Mamba_LogReturns  Costco_Mamba_LogReturns  Google_Mamba_LogReturns  \\\n",
            "0                0.481776                -0.467674                -0.522370   \n",
            "1                0.373188                -0.555592                -0.326282   \n",
            "2                0.619266                -0.654598                -0.212747   \n",
            "3               -0.194690                 0.138496                -0.388124   \n",
            "4                0.256780                 0.366456                -0.682808   \n",
            "\n",
            "   Meta_Mamba_LogReturns  Microsoft_Mamba_LogReturns  \n",
            "0               0.894431                    0.693246  \n",
            "1               0.549876                    0.576014  \n",
            "2              -0.196590                   -0.116849  \n",
            "3               0.497864                    0.188051  \n",
            "4               0.142782                    0.672692  \n",
            "\n",
            "[5 rows x 31 columns]\n",
            "\n",
            "✅ Last 5 rows:\n",
            "           Date  Tesla_ARIMA_LogReturns  Starbucks_ARIMA_LogReturns  \\\n",
            "496  2024-12-24                0.002850                   -0.000169   \n",
            "497  2024-12-26                0.003100                   -0.000614   \n",
            "498  2024-12-27                0.002607                   -0.000415   \n",
            "499  2024-12-30                0.002262                   -0.000193   \n",
            "500  2024-12-31                0.001967                    0.000035   \n",
            "\n",
            "     Netflix_ARIMA_LogReturns  Microsoft_ARIMA_LogReturns  \\\n",
            "496                  0.002409                    0.001539   \n",
            "497                  0.003119                    0.001711   \n",
            "498                  0.001840                    0.000203   \n",
            "499                  0.001818                    0.001910   \n",
            "500                  0.002015                    0.003819   \n",
            "\n",
            "     Meta_ARIMA_LogReturns  Google_ARIMA_LogReturns  Costco_ARIMA_LogReturns  \\\n",
            "496               0.002797                 0.001311                 0.001643   \n",
            "497               0.003097                 0.000867                 0.001348   \n",
            "498               0.003468                 0.000958                 0.001625   \n",
            "499               0.004105                 0.001098                 0.002294   \n",
            "500               0.004193                 0.002245                 0.003253   \n",
            "\n",
            "     Amgen_ARIMA_LogReturns  Amazon_ARIMA_LogReturns  ...  \\\n",
            "496                0.000407                 0.001340  ...   \n",
            "497                0.000093                 0.001644  ...   \n",
            "498                0.000272                 0.000272  ...   \n",
            "499                0.000070                 0.004037  ...   \n",
            "500                0.000432                 0.004591  ...   \n",
            "\n",
            "     Netflix_Mamba_LogReturns  Starbucks_Mamba_LogReturns  \\\n",
            "496                  0.154539                    0.375012   \n",
            "497                  0.078521                    0.394437   \n",
            "498                 -0.325896                    0.349877   \n",
            "499                 -0.102874                    0.620888   \n",
            "500                  0.053674                    1.269562   \n",
            "\n",
            "     Tesla_Mamba_LogReturns  Amazon_Mamba_LogReturns  Amgen_Mamba_LogReturns  \\\n",
            "496               -0.019975                 0.328342                0.162085   \n",
            "497                0.138820                 0.396124                0.384096   \n",
            "498                0.206696                -0.507344                0.027101   \n",
            "499                0.069104                -0.562917               -0.257760   \n",
            "500               -0.152180                -0.407389               -0.207439   \n",
            "\n",
            "     Apple_Mamba_LogReturns  Costco_Mamba_LogReturns  Google_Mamba_LogReturns  \\\n",
            "496               -1.027672                 1.276594                -0.372226   \n",
            "497               -1.044719                 1.381019                -0.287295   \n",
            "498               -0.909231                 1.218285                -0.273740   \n",
            "499               -0.768665                 0.969811                -0.313845   \n",
            "500               -0.671247                 0.587068                -0.289510   \n",
            "\n",
            "     Meta_Mamba_LogReturns  Microsoft_Mamba_LogReturns  \n",
            "496              -0.032963                    0.130543  \n",
            "497              -0.050320                    0.314216  \n",
            "498              -0.183085                    0.042553  \n",
            "499              -0.328281                    0.362000  \n",
            "500              -0.373838                    0.787306  \n",
            "\n",
            "[5 rows x 31 columns]\n"
          ]
        }
      ]
    },
    {
      "cell_type": "code",
      "source": [
        "print(master_df.index.min(), master_df.index.max())"
      ],
      "metadata": {
        "colab": {
          "base_uri": "https://localhost:8080/"
        },
        "id": "s9WrUhB1Y5mG",
        "outputId": "97b8eb9d-4924-40ec-e15b-c87a148f5a4b"
      },
      "execution_count": null,
      "outputs": [
        {
          "output_type": "stream",
          "name": "stdout",
          "text": [
            "0 500\n"
          ]
        }
      ]
    },
    {
      "cell_type": "code",
      "source": [
        "# ✅ Save to Google Drive\n",
        "output_path = \"/content/drive/MyDrive/Master_LogReturns_AllModels.csv\"\n",
        "master_df.to_csv(output_path, index=False)\n",
        "print(f\"\\n✅ Master file saved at: {output_path}\")"
      ],
      "metadata": {
        "colab": {
          "base_uri": "https://localhost:8080/"
        },
        "id": "-wI4UeTBY7DV",
        "outputId": "3e61fab5-bce3-49cc-8f20-5016e3fa3ebd"
      },
      "execution_count": null,
      "outputs": [
        {
          "output_type": "stream",
          "name": "stdout",
          "text": [
            "\n",
            "✅ Master file saved at: /content/drive/MyDrive/Master_LogReturns_AllModels.csv\n"
          ]
        }
      ]
    },
    {
      "cell_type": "code",
      "source": [
        "from google.colab import drive\n",
        "drive.mount('/content/drive')"
      ],
      "metadata": {
        "id": "BsVKpe_ncP7L"
      },
      "execution_count": null,
      "outputs": []
    },
    {
      "cell_type": "code",
      "source": [
        "import pandas as pd\n",
        "\n",
        "# Load from Google Drive\n",
        "master_file_path = \"/content/drive/MyDrive/Master_LogReturns_AllModels.csv\"\n",
        "master_df = pd.read_csv(master_file_path)\n",
        "\n",
        "print(\"✅ Loaded Master File:\")\n",
        "print(master_df.head())"
      ],
      "metadata": {
        "colab": {
          "base_uri": "https://localhost:8080/"
        },
        "id": "qZFqTmFyafiv",
        "outputId": "e6d888d6-469a-4e63-f4f2-4da650ad3c13"
      },
      "execution_count": null,
      "outputs": [
        {
          "output_type": "stream",
          "name": "stdout",
          "text": [
            "✅ Loaded Master File:\n",
            "         Date  Tesla_ARIMA_LogReturns  Starbucks_ARIMA_LogReturns  \\\n",
            "0  2023-01-04                0.006468                   -0.001965   \n",
            "1  2023-01-05               -0.005236                   -0.001753   \n",
            "2  2023-01-06               -0.000097                   -0.002190   \n",
            "3  2023-01-09               -0.003492                   -0.004392   \n",
            "4  2023-01-10               -0.005349                    0.000223   \n",
            "\n",
            "   Netflix_ARIMA_LogReturns  Microsoft_ARIMA_LogReturns  \\\n",
            "0                  0.001621                   -0.001651   \n",
            "1                 -0.000532                    0.001721   \n",
            "2                  0.001828                    0.003402   \n",
            "3                  0.000523                    0.005785   \n",
            "4                 -0.001197                    0.001893   \n",
            "\n",
            "   Meta_ARIMA_LogReturns  Google_ARIMA_LogReturns  Costco_ARIMA_LogReturns  \\\n",
            "0              -0.001856                -0.000311                 0.000184   \n",
            "1              -0.001646                 0.000323                 0.000544   \n",
            "2              -0.001394                 0.000631                 0.000020   \n",
            "3              -0.001540                -0.000391                 0.001670   \n",
            "4              -0.001306                -0.000243                 0.000373   \n",
            "\n",
            "   Amgen_ARIMA_LogReturns  Amazon_ARIMA_LogReturns  ...  \\\n",
            "0               -0.000806                -0.000872  ...   \n",
            "1                0.000896                -0.001358  ...   \n",
            "2                0.001613                -0.001628  ...   \n",
            "3                0.000985                -0.000707  ...   \n",
            "4               -0.000500                -0.000939  ...   \n",
            "\n",
            "   Netflix_Mamba_LogReturns  Starbucks_Mamba_LogReturns  \\\n",
            "0                 -0.185486                    1.005221   \n",
            "1                  0.046002                    0.305377   \n",
            "2                 -0.839743                    0.002712   \n",
            "3                  0.480163                   -0.420644   \n",
            "4                  0.594870                    0.348900   \n",
            "\n",
            "   Tesla_Mamba_LogReturns  Amazon_Mamba_LogReturns  Amgen_Mamba_LogReturns  \\\n",
            "0                0.229494                 0.070175               -0.230557   \n",
            "1               -0.339092                -0.005264                0.175184   \n",
            "2               -0.076121                -0.680437               -0.509461   \n",
            "3                0.019988                 0.092886                0.650185   \n",
            "4                0.135093                -0.467184                0.280126   \n",
            "\n",
            "   Apple_Mamba_LogReturns  Costco_Mamba_LogReturns  Google_Mamba_LogReturns  \\\n",
            "0                0.481776                -0.467674                -0.522370   \n",
            "1                0.373188                -0.555592                -0.326282   \n",
            "2                0.619266                -0.654598                -0.212747   \n",
            "3               -0.194690                 0.138496                -0.388124   \n",
            "4                0.256780                 0.366456                -0.682808   \n",
            "\n",
            "   Meta_Mamba_LogReturns  Microsoft_Mamba_LogReturns  \n",
            "0               0.894431                    0.693246  \n",
            "1               0.549876                    0.576014  \n",
            "2              -0.196590                   -0.116849  \n",
            "3               0.497864                    0.188051  \n",
            "4               0.142782                    0.672692  \n",
            "\n",
            "[5 rows x 31 columns]\n"
          ]
        }
      ]
    },
    {
      "cell_type": "code",
      "source": [
        "from google.colab import drive\n",
        "import pandas as pd\n",
        "import numpy as np"
      ],
      "metadata": {
        "id": "4iGZc59xcKKU"
      },
      "execution_count": null,
      "outputs": []
    },
    {
      "cell_type": "code",
      "source": [
        "drive.mount('/content/drive')"
      ],
      "metadata": {
        "colab": {
          "base_uri": "https://localhost:8080/"
        },
        "id": "9bn_3OKisHGf",
        "outputId": "efe6b1a3-0656-4eca-d865-1de4062af165"
      },
      "execution_count": null,
      "outputs": [
        {
          "output_type": "stream",
          "name": "stdout",
          "text": [
            "Drive already mounted at /content/drive; to attempt to forcibly remount, call drive.mount(\"/content/drive\", force_remount=True).\n"
          ]
        }
      ]
    },
    {
      "cell_type": "code",
      "source": [
        "from google.colab import files\n",
        "uploaded = files.upload()\n"
      ],
      "metadata": {
        "colab": {
          "base_uri": "https://localhost:8080/",
          "height": 73
        },
        "id": "HIW77mo_sINX",
        "outputId": "362c1525-55d2-469d-9be0-61b772323f84"
      },
      "execution_count": null,
      "outputs": [
        {
          "output_type": "display_data",
          "data": {
            "text/plain": [
              "<IPython.core.display.HTML object>"
            ],
            "text/html": [
              "\n",
              "     <input type=\"file\" id=\"files-23456605-4891-4926-8b1b-5a37702874b5\" name=\"files[]\" multiple disabled\n",
              "        style=\"border:none\" />\n",
              "     <output id=\"result-23456605-4891-4926-8b1b-5a37702874b5\">\n",
              "      Upload widget is only available when the cell has been executed in the\n",
              "      current browser session. Please rerun this cell to enable.\n",
              "      </output>\n",
              "      <script>// Copyright 2017 Google LLC\n",
              "//\n",
              "// Licensed under the Apache License, Version 2.0 (the \"License\");\n",
              "// you may not use this file except in compliance with the License.\n",
              "// You may obtain a copy of the License at\n",
              "//\n",
              "//      http://www.apache.org/licenses/LICENSE-2.0\n",
              "//\n",
              "// Unless required by applicable law or agreed to in writing, software\n",
              "// distributed under the License is distributed on an \"AS IS\" BASIS,\n",
              "// WITHOUT WARRANTIES OR CONDITIONS OF ANY KIND, either express or implied.\n",
              "// See the License for the specific language governing permissions and\n",
              "// limitations under the License.\n",
              "\n",
              "/**\n",
              " * @fileoverview Helpers for google.colab Python module.\n",
              " */\n",
              "(function(scope) {\n",
              "function span(text, styleAttributes = {}) {\n",
              "  const element = document.createElement('span');\n",
              "  element.textContent = text;\n",
              "  for (const key of Object.keys(styleAttributes)) {\n",
              "    element.style[key] = styleAttributes[key];\n",
              "  }\n",
              "  return element;\n",
              "}\n",
              "\n",
              "// Max number of bytes which will be uploaded at a time.\n",
              "const MAX_PAYLOAD_SIZE = 100 * 1024;\n",
              "\n",
              "function _uploadFiles(inputId, outputId) {\n",
              "  const steps = uploadFilesStep(inputId, outputId);\n",
              "  const outputElement = document.getElementById(outputId);\n",
              "  // Cache steps on the outputElement to make it available for the next call\n",
              "  // to uploadFilesContinue from Python.\n",
              "  outputElement.steps = steps;\n",
              "\n",
              "  return _uploadFilesContinue(outputId);\n",
              "}\n",
              "\n",
              "// This is roughly an async generator (not supported in the browser yet),\n",
              "// where there are multiple asynchronous steps and the Python side is going\n",
              "// to poll for completion of each step.\n",
              "// This uses a Promise to block the python side on completion of each step,\n",
              "// then passes the result of the previous step as the input to the next step.\n",
              "function _uploadFilesContinue(outputId) {\n",
              "  const outputElement = document.getElementById(outputId);\n",
              "  const steps = outputElement.steps;\n",
              "\n",
              "  const next = steps.next(outputElement.lastPromiseValue);\n",
              "  return Promise.resolve(next.value.promise).then((value) => {\n",
              "    // Cache the last promise value to make it available to the next\n",
              "    // step of the generator.\n",
              "    outputElement.lastPromiseValue = value;\n",
              "    return next.value.response;\n",
              "  });\n",
              "}\n",
              "\n",
              "/**\n",
              " * Generator function which is called between each async step of the upload\n",
              " * process.\n",
              " * @param {string} inputId Element ID of the input file picker element.\n",
              " * @param {string} outputId Element ID of the output display.\n",
              " * @return {!Iterable<!Object>} Iterable of next steps.\n",
              " */\n",
              "function* uploadFilesStep(inputId, outputId) {\n",
              "  const inputElement = document.getElementById(inputId);\n",
              "  inputElement.disabled = false;\n",
              "\n",
              "  const outputElement = document.getElementById(outputId);\n",
              "  outputElement.innerHTML = '';\n",
              "\n",
              "  const pickedPromise = new Promise((resolve) => {\n",
              "    inputElement.addEventListener('change', (e) => {\n",
              "      resolve(e.target.files);\n",
              "    });\n",
              "  });\n",
              "\n",
              "  const cancel = document.createElement('button');\n",
              "  inputElement.parentElement.appendChild(cancel);\n",
              "  cancel.textContent = 'Cancel upload';\n",
              "  const cancelPromise = new Promise((resolve) => {\n",
              "    cancel.onclick = () => {\n",
              "      resolve(null);\n",
              "    };\n",
              "  });\n",
              "\n",
              "  // Wait for the user to pick the files.\n",
              "  const files = yield {\n",
              "    promise: Promise.race([pickedPromise, cancelPromise]),\n",
              "    response: {\n",
              "      action: 'starting',\n",
              "    }\n",
              "  };\n",
              "\n",
              "  cancel.remove();\n",
              "\n",
              "  // Disable the input element since further picks are not allowed.\n",
              "  inputElement.disabled = true;\n",
              "\n",
              "  if (!files) {\n",
              "    return {\n",
              "      response: {\n",
              "        action: 'complete',\n",
              "      }\n",
              "    };\n",
              "  }\n",
              "\n",
              "  for (const file of files) {\n",
              "    const li = document.createElement('li');\n",
              "    li.append(span(file.name, {fontWeight: 'bold'}));\n",
              "    li.append(span(\n",
              "        `(${file.type || 'n/a'}) - ${file.size} bytes, ` +\n",
              "        `last modified: ${\n",
              "            file.lastModifiedDate ? file.lastModifiedDate.toLocaleDateString() :\n",
              "                                    'n/a'} - `));\n",
              "    const percent = span('0% done');\n",
              "    li.appendChild(percent);\n",
              "\n",
              "    outputElement.appendChild(li);\n",
              "\n",
              "    const fileDataPromise = new Promise((resolve) => {\n",
              "      const reader = new FileReader();\n",
              "      reader.onload = (e) => {\n",
              "        resolve(e.target.result);\n",
              "      };\n",
              "      reader.readAsArrayBuffer(file);\n",
              "    });\n",
              "    // Wait for the data to be ready.\n",
              "    let fileData = yield {\n",
              "      promise: fileDataPromise,\n",
              "      response: {\n",
              "        action: 'continue',\n",
              "      }\n",
              "    };\n",
              "\n",
              "    // Use a chunked sending to avoid message size limits. See b/62115660.\n",
              "    let position = 0;\n",
              "    do {\n",
              "      const length = Math.min(fileData.byteLength - position, MAX_PAYLOAD_SIZE);\n",
              "      const chunk = new Uint8Array(fileData, position, length);\n",
              "      position += length;\n",
              "\n",
              "      const base64 = btoa(String.fromCharCode.apply(null, chunk));\n",
              "      yield {\n",
              "        response: {\n",
              "          action: 'append',\n",
              "          file: file.name,\n",
              "          data: base64,\n",
              "        },\n",
              "      };\n",
              "\n",
              "      let percentDone = fileData.byteLength === 0 ?\n",
              "          100 :\n",
              "          Math.round((position / fileData.byteLength) * 100);\n",
              "      percent.textContent = `${percentDone}% done`;\n",
              "\n",
              "    } while (position < fileData.byteLength);\n",
              "  }\n",
              "\n",
              "  // All done.\n",
              "  yield {\n",
              "    response: {\n",
              "      action: 'complete',\n",
              "    }\n",
              "  };\n",
              "}\n",
              "\n",
              "scope.google = scope.google || {};\n",
              "scope.google.colab = scope.google.colab || {};\n",
              "scope.google.colab._files = {\n",
              "  _uploadFiles,\n",
              "  _uploadFilesContinue,\n",
              "};\n",
              "})(self);\n",
              "</script> "
            ]
          },
          "metadata": {}
        },
        {
          "output_type": "stream",
          "name": "stdout",
          "text": [
            "Saving nasdaq10_log_returns.csv to nasdaq10_log_returns.csv\n"
          ]
        }
      ]
    },
    {
      "cell_type": "code",
      "source": [
        "actual_file = \"nasdaq10_log_returns.csv\"\n",
        "\n",
        "actual_df = pd.read_csv(actual_file)"
      ],
      "metadata": {
        "id": "Vc4NN2v5sQRX"
      },
      "execution_count": null,
      "outputs": []
    },
    {
      "cell_type": "code",
      "source": [
        "actual_df['Date'] = pd.to_datetime(actual_df['Date'], errors='coerce')\n",
        "\n",
        "\n",
        "mask = (actual_df['Date'] >= '2023-01-04') & (actual_df['Date'] <= '2024-12-31')\n",
        "actual_df = actual_df.loc[mask].reset_index(drop=True)"
      ],
      "metadata": {
        "id": "Zp7dJ25msXMP"
      },
      "execution_count": null,
      "outputs": []
    },
    {
      "cell_type": "code",
      "source": [
        "for col in actual_df.columns[1:]:\n",
        "    actual_df[col] = np.exp(actual_df[col]) - 1"
      ],
      "metadata": {
        "id": "1p2jXxVdsZV_"
      },
      "execution_count": null,
      "outputs": []
    },
    {
      "cell_type": "code",
      "source": [
        "rename_map = {\n",
        "    'AAPL': 'Apple',\n",
        "    'AMZN': 'Amazon',\n",
        "    'META': 'Meta',\n",
        "    'GOOGL': 'Google',\n",
        "    'COST': 'Costco',\n",
        "    'MSFT': 'Microsoft',\n",
        "    'NFLX': 'Netflix',\n",
        "    'SBUX': 'Starbucks',\n",
        "    'TSLA': 'Tesla',\n",
        "    'AMGN': 'Amgen'\n",
        "}\n",
        "actual_df.rename(columns=rename_map, inplace=True)\n",
        "\n"
      ],
      "metadata": {
        "id": "DMWMJS_4scjP"
      },
      "execution_count": null,
      "outputs": []
    },
    {
      "cell_type": "code",
      "source": [
        "print(\"✅ First 5 rows:\")\n",
        "print(actual_df.head())\n",
        "print(\"\\n✅ Last 5 rows:\")\n",
        "print(actual_df.tail())\n",
        "print(f\"\\n✅ Total rows after alignment: {len(actual_df)}\")"
      ],
      "metadata": {
        "colab": {
          "base_uri": "https://localhost:8080/"
        },
        "id": "9GoE52TNsooQ",
        "outputId": "fe1dbe4b-a705-418b-af5e-55f8aca2ed33"
      },
      "execution_count": null,
      "outputs": [
        {
          "output_type": "stream",
          "name": "stdout",
          "text": [
            "✅ First 5 rows:\n",
            "        Date    Amazon     Amgen     Apple    Costco    Google      Meta  \\\n",
            "0 2023-01-04 -0.007924  0.010472  0.010314  0.007243 -0.011670  0.021084   \n",
            "1 2023-01-05 -0.023726  0.009342 -0.010605 -0.013956 -0.021344 -0.003376   \n",
            "2 2023-01-06  0.035611  0.031252  0.036794  0.072584  0.013225  0.024263   \n",
            "3 2023-01-09  0.014870 -0.018459  0.004089 -0.008515  0.007786 -0.004230   \n",
            "4 2023-01-10  0.028732  0.013920  0.004456  0.005533  0.004544  0.027188   \n",
            "\n",
            "   Microsoft   Netflix  Starbucks     Tesla  \n",
            "0  -0.043743  0.049025   0.036001  0.051249  \n",
            "1  -0.029638  0.000937  -0.000287 -0.029039  \n",
            "2   0.011785  0.018889   0.021641  0.024651  \n",
            "3   0.009736 -0.001204  -0.018277  0.059349  \n",
            "4   0.007617  0.039249   0.012030 -0.007681  \n",
            "\n",
            "✅ Last 5 rows:\n",
            "          Date    Amazon     Amgen     Apple    Costco    Google      Meta  \\\n",
            "496 2024-12-24  0.017729  0.001856  0.011478  0.009380  0.007604  0.013170   \n",
            "497 2024-12-26 -0.008732 -0.004953  0.003176 -0.002795 -0.002601 -0.007240   \n",
            "498 2024-12-27 -0.014534 -0.002014 -0.013242 -0.017194 -0.014519 -0.005867   \n",
            "499 2024-12-30 -0.010950 -0.012755 -0.013263 -0.018612 -0.007885 -0.014288   \n",
            "500 2024-12-31 -0.008631  0.005168 -0.007058 -0.006441 -0.010144 -0.009691   \n",
            "\n",
            "     Microsoft   Netflix  Starbucks     Tesla  \n",
            "496   0.009374  0.022678   0.028248  0.073572  \n",
            "497  -0.002777 -0.008561   0.021688 -0.017630  \n",
            "498  -0.017302 -0.017952   0.004246 -0.049479  \n",
            "499  -0.013239 -0.007845  -0.018103 -0.033012  \n",
            "500  -0.007838 -0.010117   0.007397 -0.032510  \n",
            "\n",
            "✅ Total rows after alignment: 501\n"
          ]
        }
      ]
    },
    {
      "cell_type": "code",
      "source": [
        "# ✅ Save to Google Drive\n",
        "output_path = '/content/drive/MyDrive/Actual_SimpleReturns_Aligned.csv'\n",
        "actual_df.to_csv(output_path, index=False)\n",
        "print(f\"\\n✅ Cleaned actual returns file saved at: {output_path}\")"
      ],
      "metadata": {
        "colab": {
          "base_uri": "https://localhost:8080/"
        },
        "id": "QjPEt7-WsgkP",
        "outputId": "31ede95d-bd92-4f75-8603-cb2fff19c4d1"
      },
      "execution_count": null,
      "outputs": [
        {
          "output_type": "stream",
          "name": "stdout",
          "text": [
            "\n",
            "✅ Cleaned actual returns file saved at: /content/drive/MyDrive/Actual_SimpleReturns_Aligned.csv\n"
          ]
        }
      ]
    },
    {
      "cell_type": "markdown",
      "source": [
        "Portfolio Construction"
      ],
      "metadata": {
        "id": "hLRuOo9t--C0"
      }
    },
    {
      "cell_type": "code",
      "source": [
        "from google.colab import drive\n",
        "drive.mount('/content/drive')"
      ],
      "metadata": {
        "colab": {
          "base_uri": "https://localhost:8080/"
        },
        "id": "9c8kYdp0-jsc",
        "outputId": "0fc910d0-03cc-4936-991a-e4f4a2d3464e"
      },
      "execution_count": 10,
      "outputs": [
        {
          "output_type": "stream",
          "name": "stdout",
          "text": [
            "Drive already mounted at /content/drive; to attempt to forcibly remount, call drive.mount(\"/content/drive\", force_remount=True).\n"
          ]
        }
      ]
    },
    {
      "cell_type": "code",
      "source": [
        "import pandas as pd\n",
        "import numpy as np"
      ],
      "metadata": {
        "id": "Gv-OIxHk-uaE"
      },
      "execution_count": 11,
      "outputs": []
    },
    {
      "cell_type": "code",
      "source": [
        "predictions_df = pd.read_csv(\"/content/drive/MyDrive/Master_LogReturns_AllModels.csv\")\n",
        "actual_df = pd.read_csv(\"/content/drive/MyDrive/Actual_SimpleReturns_Aligned.csv\")"
      ],
      "metadata": {
        "id": "Dxc4oXAj3O68"
      },
      "execution_count": 12,
      "outputs": []
    },
    {
      "cell_type": "code",
      "source": [
        "import pandas as pd\n",
        "import numpy as np\n",
        "\n",
        "def simulate_model_strategy(model_name, predictions_df, actual_df, initial_capital=1.0, top_n=2):\n",
        "\n",
        "\n",
        "    # ✅ Extract dates\n",
        "    dates = predictions_df['Date']\n",
        "\n",
        "    # ✅ Identify prediction columns for the model\n",
        "    model_cols = [col for col in predictions_df.columns if model_name in col]\n",
        "\n",
        "    # ✅ Extract only these columns\n",
        "    preds = predictions_df[model_cols].values\n",
        "    actual = actual_df.drop(columns=['Date']).values\n",
        "\n",
        "    # ✅ Stock names for reference\n",
        "    stock_names = [col.split('_')[0] for col in model_cols]\n",
        "\n",
        "    # ✅ Initialize portfolio\n",
        "    portfolio_values = [initial_capital]\n",
        "    capital = initial_capital\n",
        "\n",
        "    # ✅ Iterate through each day\n",
        "    for i in range(len(dates)):\n",
        "        # Get today's predictions for this model\n",
        "        pred_today = preds[i]\n",
        "        actual_today = actual[i]\n",
        "\n",
        "        # Sort stocks by predicted return (descending)\n",
        "        stock_indices = np.argsort(pred_today)[::-1]  # descending order\n",
        "\n",
        "        # Select top positive predictions\n",
        "        selected_indices = [idx for idx in stock_indices if pred_today[idx] > 0][:top_n]\n",
        "\n",
        "        if len(selected_indices) == 0:\n",
        "            # No positive predictions → stay in cash\n",
        "            new_capital = capital\n",
        "        else:\n",
        "            # Equal allocation among selected\n",
        "            allocation = capital / len(selected_indices)\n",
        "            new_capital = sum(allocation * (1 + actual_today[idx]) for idx in selected_indices)\n",
        "\n",
        "        capital = new_capital\n",
        "        portfolio_values.append(capital)\n",
        "\n",
        "    # ✅ Create Series with dates as index\n",
        "    portfolio_series = pd.Series(portfolio_values[1:], index=dates, name=model_name)\n",
        "\n",
        "    return portfolio_series"
      ],
      "metadata": {
        "id": "FZ3h03e9tyAv"
      },
      "execution_count": 51,
      "outputs": []
    },
    {
      "cell_type": "code",
      "source": [
        "def simulate_consensus_strategy(predictions_df, actual_df, initial_capital=1.0):\n",
        "    \"\"\"\n",
        "    Simulate portfolio growth for consensus strategy (stocks positive in all 3 models).\n",
        "\n",
        "    Parameters:\n",
        "        predictions_df (pd.DataFrame): Predictions for all models\n",
        "        actual_df (pd.DataFrame): Actual simple returns (aligned)\n",
        "        initial_capital (float): Starting capital\n",
        "\n",
        "    Returns:\n",
        "        pd.Series: Daily portfolio values for consensus strategy\n",
        "    \"\"\"\n",
        "\n",
        "    # ✅ Extract dates\n",
        "    dates = predictions_df['Date']\n",
        "\n",
        "    # ✅ Identify prediction columns by model\n",
        "    arima_cols = [col for col in predictions_df.columns if 'ARIMA' in col]\n",
        "    lstm_cols = [col for col in predictions_df.columns if 'LSTM' in col]\n",
        "    mamba_cols = [col for col in predictions_df.columns if 'Mamba' in col]\n",
        "\n",
        "    # ✅ Convert to NumPy arrays for speed\n",
        "    arima_preds = predictions_df[arima_cols].values\n",
        "    lstm_preds = predictions_df[lstm_cols].values\n",
        "    mamba_preds = predictions_df[mamba_cols].values\n",
        "    actual = actual_df.drop(columns=['Date']).values\n",
        "\n",
        "    # ✅ Initialize portfolio\n",
        "    portfolio_values = [initial_capital]\n",
        "    capital = initial_capital\n",
        "\n",
        "    # ✅ Iterate through each day\n",
        "    for i in range(len(dates)):\n",
        "        # Boolean mask: stock qualifies if all 3 models predict > 0\n",
        "        consensus_mask = (arima_preds[i] > 0) & (lstm_preds[i] > 0) & (mamba_preds[i] > 0)\n",
        "        selected_indices = np.where(consensus_mask)[0]\n",
        "\n",
        "        if len(selected_indices) == 0:\n",
        "            # No consensus picks → stay in cash\n",
        "            new_capital = capital\n",
        "        else:\n",
        "            # Equal allocation among selected\n",
        "            allocation = capital / len(selected_indices)\n",
        "            new_capital = sum(allocation * (1 + actual[i][idx]) for idx in selected_indices)\n",
        "\n",
        "        capital = new_capital\n",
        "        portfolio_values.append(capital)\n",
        "\n",
        "    # ✅ Create Series with dates as index\n",
        "    portfolio_series = pd.Series(portfolio_values[1:], index=dates, name='Consensus')\n",
        "\n",
        "    return portfolio_series"
      ],
      "metadata": {
        "id": "_HTg_GYNxdjP"
      },
      "execution_count": 52,
      "outputs": []
    },
    {
      "cell_type": "code",
      "source": [
        "def simulate_buy_and_hold(actual_df, initial_capital=1.0):\n",
        "    \"\"\"\n",
        "    Simulate Buy & Hold strategy with equal weights across all stocks.\n",
        "\n",
        "    Parameters:\n",
        "        actual_df (pd.DataFrame): Actual simple returns (aligned with Date column)\n",
        "        initial_capital (float): Starting capital\n",
        "\n",
        "    Returns:\n",
        "        pd.Series: Daily portfolio values for Buy & Hold\n",
        "    \"\"\"\n",
        "\n",
        "    dates = actual_df['Date']\n",
        "    actual_returns = actual_df.drop(columns=['Date']).values\n",
        "\n",
        "    n_stocks = actual_returns.shape[1]\n",
        "    weights = np.full(n_stocks, 1 / n_stocks)  # Equal weights\n",
        "\n",
        "    portfolio_values = [initial_capital]\n",
        "    capital = initial_capital\n",
        "\n",
        "    for i in range(len(dates)):\n",
        "        # Daily portfolio return\n",
        "        daily_return = np.dot(weights, actual_returns[i])\n",
        "        capital = capital * (1 + daily_return)\n",
        "        portfolio_values.append(capital)\n",
        "\n",
        "    portfolio_series = pd.Series(portfolio_values[1:], index=dates, name='Buy&Hold')\n",
        "\n",
        "    return portfolio_series"
      ],
      "metadata": {
        "id": "AxVYP7ZzKEuB"
      },
      "execution_count": 53,
      "outputs": []
    },
    {
      "cell_type": "code",
      "source": [
        "def run_all_strategies(predictions_df, actual_df, drive_path=\"/content/drive/MyDrive/Daily_Portfolio_Values.csv\"):\n",
        "\n",
        "\n",
        "    # ✅ Run individual model strategies\n",
        "    print(\"Running ARIMA strategy...\")\n",
        "    arima_series = simulate_model_strategy(\"ARIMA\", predictions_df, actual_df)\n",
        "\n",
        "    print(\"Running LSTM strategy...\")\n",
        "    lstm_series = simulate_model_strategy(\"LSTM\", predictions_df, actual_df)\n",
        "\n",
        "    print(\"Running Mamba strategy...\")\n",
        "    mamba_series = simulate_model_strategy(\"Mamba\", predictions_df, actual_df)\n",
        "\n",
        "    # ✅ Run consensus strategy\n",
        "    print(\"Running Consensus strategy...\")\n",
        "    consensus_series = simulate_consensus_strategy(predictions_df, actual_df)\n",
        "\n",
        "    print(\"Running Buy & Hold strategy...\")\n",
        "    buyhold_series = simulate_buy_and_hold(actual_df)\n",
        "\n",
        "    combined_df = pd.DataFrame({\n",
        "     \"Date\": predictions_df['Date'],\n",
        "     \"ARIMA\": arima_series.values,\n",
        "     \"LSTM\": lstm_series.values,\n",
        "     \"Mamba\": mamba_series.values,\n",
        "     \"Consensus\": consensus_series.values,\n",
        "     \"Buy&Hold\": buyhold_series.values\n",
        "    })\n",
        "\n",
        "\n",
        "    # ✅ Save to Google Drive\n",
        "    combined_df.to_csv(drive_path, index=False)\n",
        "\n",
        "    print(f\"\\n✅ Combined portfolio values saved at: {drive_path}\")\n",
        "    print(\"\\nPreview:\")\n",
        "    print(combined_df.head())\n",
        "    print(\"\\nLast rows:\")\n",
        "    print(combined_df.tail())\n",
        "\n",
        "    return combined_df\n"
      ],
      "metadata": {
        "id": "5I0ZIUGWy54x"
      },
      "execution_count": 54,
      "outputs": []
    },
    {
      "cell_type": "code",
      "source": [
        "combined_df = run_all_strategies(predictions_df, actual_df)"
      ],
      "metadata": {
        "colab": {
          "base_uri": "https://localhost:8080/"
        },
        "id": "W5eRSWcC3PJS",
        "outputId": "7abbdbb6-bfcf-4654-a355-716918e015ca"
      },
      "execution_count": 55,
      "outputs": [
        {
          "output_type": "stream",
          "name": "stdout",
          "text": [
            "Running ARIMA strategy...\n",
            "Running LSTM strategy...\n",
            "Running Mamba strategy...\n",
            "Running Consensus strategy...\n",
            "Running Buy & Hold strategy...\n",
            "\n",
            "✅ Combined portfolio values saved at: /content/drive/MyDrive/Daily_Portfolio_Values.csv\n",
            "\n",
            "Preview:\n",
            "         Date     ARIMA      LSTM     Mamba  Consensus  Buy&Hold\n",
            "0  2023-01-04  1.001195  0.999401  1.023237   1.000000  1.012205\n",
            "1  2023-01-05  0.979672  1.002383  1.008233   0.996624  0.999888\n",
            "2  2023-01-06  1.033250  1.044668  1.036219   1.020806  1.028954\n",
            "3  2023-01-09  1.033881  1.044287  1.030783   1.022613  1.033599\n",
            "4  2023-01-10  1.040678  1.061616  1.041633   1.036847  1.047613\n",
            "\n",
            "Last rows:\n",
            "           Date     ARIMA      LSTM     Mamba  Consensus  Buy&Hold\n",
            "496  2024-12-24  1.821365  2.387731  2.638249   1.491518  2.374515\n",
            "497  2024-12-26  1.816305  2.375772  2.630899   1.487376  2.367291\n",
            "498  2024-12-27  1.789920  2.339490  2.605491   1.464661  2.332288\n",
            "499  2024-12-30  1.766662  2.285359  2.571627   1.435604  2.297315\n",
            "500  2024-12-31  1.764235  2.237136  2.536470   1.388933  2.278967\n"
          ]
        }
      ]
    },
    {
      "cell_type": "code",
      "source": [
        "def calculate_metrics(portfolio_series):\n",
        "    daily_returns = portfolio_series.pct_change().dropna()\n",
        "\n",
        "    final_value = portfolio_series.iloc[-1]\n",
        "    total_days = len(portfolio_series)\n",
        "    annual_factor = 252 / total_days  # Approx annualization for trading days\n",
        "\n",
        "    # CAGR calculation\n",
        "    cagr = (final_value / portfolio_series.iloc[0])**annual_factor - 1\n",
        "\n",
        "    # Volatility\n",
        "    volatility = daily_returns.std() * np.sqrt(252)\n",
        "\n",
        "    # Sharpe Ratio (risk-free = 0)\n",
        "    sharpe = cagr / volatility if volatility != 0 else 0\n",
        "\n",
        "    # Max Drawdown\n",
        "    cumulative_max = portfolio_series.cummax()\n",
        "    drawdown = (portfolio_series / cumulative_max) - 1\n",
        "    max_drawdown = drawdown.min()\n",
        "\n",
        "    return {\n",
        "        \"Final Value\": round(final_value, 4),\n",
        "        \"CAGR (%)\": round(cagr * 100, 2),\n",
        "        \"Volatility (%)\": round(volatility * 100, 2),\n",
        "        \"Sharpe\": round(sharpe, 2),\n",
        "        \"Max Drawdown (%)\": round(max_drawdown * 100, 2)\n",
        "    }\n",
        "\n",
        "# ✅ Calculate metrics for all strategies including Buy & Hold\n",
        "metrics_list = []\n",
        "for col in [\"ARIMA\", \"LSTM\", \"Mamba\", \"Consensus\", \"Buy&Hold\"]:\n",
        "    metrics = calculate_metrics(combined_df[col])\n",
        "    metrics[\"Strategy\"] = col\n",
        "    metrics_list.append(metrics)\n",
        "\n",
        "metrics_df = pd.DataFrame(metrics_list)\n",
        "metrics_df = metrics_df[[\"Strategy\", \"Final Value\", \"CAGR (%)\", \"Volatility (%)\", \"Sharpe\", \"Max Drawdown (%)\"]]\n",
        "\n",
        "# ✅ Print summary\n",
        "print(metrics_df)\n",
        "\n",
        "# ✅ Save to Google Drive\n",
        "metrics_df.to_csv(\"/content/drive/MyDrive/Strategy_Performance.csv\", index=False)\n",
        "print(\"\\n✅ Metrics saved at: /content/drive/MyDrive/Strategy_Performance.csv\")"
      ],
      "metadata": {
        "colab": {
          "base_uri": "https://localhost:8080/"
        },
        "id": "t3g9MhjA3PXB",
        "outputId": "f909dc66-4134-43f3-ab10-d0729bb3add2"
      },
      "execution_count": 56,
      "outputs": [
        {
          "output_type": "stream",
          "name": "stdout",
          "text": [
            "    Strategy  Final Value  CAGR (%)  Volatility (%)  Sharpe  Max Drawdown (%)\n",
            "0      ARIMA       1.7642     32.97           23.67    1.39            -21.42\n",
            "1       LSTM       2.2371     49.98           25.88    1.93            -17.16\n",
            "2      Mamba       2.5365     57.87           24.93    2.32            -13.48\n",
            "3  Consensus       1.3889     17.97           23.90    0.75            -24.82\n",
            "4   Buy&Hold       2.2790     50.41           18.69    2.70            -11.54\n",
            "\n",
            "✅ Metrics saved at: /content/drive/MyDrive/Strategy_Performance.csv\n"
          ]
        }
      ]
    },
    {
      "cell_type": "code",
      "source": [
        "import matplotlib.pyplot as plt\n",
        "\n",
        "plt.figure(figsize=(12,6))\n",
        "for col in [\"ARIMA\", \"LSTM\", \"Mamba\", \"Consensus\",\"Buy&Hold\"]:\n",
        "    plt.plot(combined_df[\"Date\"], combined_df[col], label=col)\n",
        "\n",
        "plt.xlabel(\"Date\")\n",
        "plt.ylabel(\"Portfolio Value\")\n",
        "plt.title(\"Portfolio Growth Comparison\")\n",
        "plt.legend()\n",
        "plt.grid(True)\n",
        "plt.show()"
      ],
      "metadata": {
        "colab": {
          "base_uri": "https://localhost:8080/",
          "height": 564
        },
        "id": "xU-QRX1O-VB0",
        "outputId": "33d0977c-35fc-4fe1-87c4-d5e33aaff85e"
      },
      "execution_count": 57,
      "outputs": [
        {
          "output_type": "display_data",
          "data": {
            "text/plain": [
              "<Figure size 1200x600 with 1 Axes>"
            ],
            "image/png": "[encoded data removed]"
          },
          "metadata": {}
        }
      ]
    },
    {
      "cell_type": "code",
      "source": [
        "from sklearn.metrics import mean_squared_error, mean_absolute_error\n",
        "import numpy as np\n",
        "import pandas as pd\n",
        "\n",
        "def evaluate_prediction_accuracy(predictions_df, actual_simple_df):\n",
        "    \"\"\"\n",
        "    Compute RMSE, MAE, and Hit Ratio for ARIMA, LSTM, Mamba predictions vs actual returns.\n",
        "    Converts actual simple returns into log returns for a fair comparison.\n",
        "\n",
        "    Parameters:\n",
        "        predictions_df (pd.DataFrame): Predicted log returns for all models\n",
        "        actual_simple_df (pd.DataFrame): Actual simple returns (aligned by Date)\n",
        "\n",
        "    Returns:\n",
        "        pd.DataFrame: RMSE, MAE, Hit Ratio for each model\n",
        "    \"\"\"\n",
        "\n",
        "    # ✅ Align on Date\n",
        "    merged = predictions_df[['Date']].merge(actual_simple_df, on='Date', how='inner')\n",
        "\n",
        "    # ✅ Convert actual simple returns to log returns\n",
        "    actual_values = merged.drop(columns=['Date']).values\n",
        "    actual_log_values = np.log(1 + actual_values)  # log(1+r)\n",
        "\n",
        "    metrics = []\n",
        "\n",
        "    for model in ['ARIMA', 'LSTM', 'Mamba']:\n",
        "        # ✅ Get predictions for this model\n",
        "        model_cols = [col for col in predictions_df.columns if model in col]\n",
        "        preds = predictions_df[model_cols].values\n",
        "\n",
        "        # ✅ Flatten for overall evaluation\n",
        "        preds_flat = preds.flatten()\n",
        "        actual_flat = actual_log_values.flatten()\n",
        "\n",
        "        # ✅ Compute metrics\n",
        "        rmse = np.sqrt(mean_squared_error(actual_flat, preds_flat))\n",
        "        mae = mean_absolute_error(actual_flat, preds_flat)\n",
        "\n",
        "        # ✅ Hit Ratio\n",
        "        correct_direction = ((preds_flat > 0) & (actual_flat > 0)) | ((preds_flat < 0) & (actual_flat < 0))\n",
        "        hit_ratio = np.sum(correct_direction) / len(correct_direction)\n",
        "\n",
        "        metrics.append({\n",
        "            \"Model\": model,\n",
        "            \"RMSE\": round(rmse, 6),\n",
        "            \"MAE\": round(mae, 6),\n",
        "            \"Hit Ratio (%)\": round(hit_ratio * 100, 2)\n",
        "        })\n",
        "\n",
        "    results_df = pd.DataFrame(metrics)\n",
        "    return results_df\n",
        "\n",
        "# ✅ Run evaluation\n",
        "prediction_metrics = evaluate_prediction_accuracy(predictions_df, actual_df)\n",
        "print(prediction_metrics)"
      ],
      "metadata": {
        "colab": {
          "base_uri": "https://localhost:8080/"
        },
        "id": "2I-Qx6FURfdX",
        "outputId": "a6108bde-dd22-42a5-f08d-a7c32d6ee771"
      },
      "execution_count": 63,
      "outputs": [
        {
          "output_type": "stream",
          "name": "stdout",
          "text": [
            "   Model      RMSE       MAE  Hit Ratio (%)\n",
            "0  ARIMA  0.020438  0.013629          49.96\n",
            "1   LSTM  0.042526  0.031433          51.12\n",
            "2  Mamba  0.734970  0.549584          50.10\n"
          ]
        }
      ]
    }
  ]
}