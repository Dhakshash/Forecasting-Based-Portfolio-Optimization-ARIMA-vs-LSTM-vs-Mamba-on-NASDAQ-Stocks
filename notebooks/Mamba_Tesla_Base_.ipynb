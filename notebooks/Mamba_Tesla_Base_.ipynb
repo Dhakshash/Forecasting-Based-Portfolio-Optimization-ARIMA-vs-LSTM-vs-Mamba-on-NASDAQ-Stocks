{
  "nbformat": 4,
  "nbformat_minor": 0,
  "metadata": {
    "colab": {
      "provenance": [],
      "gpuType": "T4"
    },
    "kernelspec": {
      "name": "python3",
      "display_name": "Python 3"
    },
    "language_info": {
      "name": "python"
    },
    "accelerator": "GPU"
  },
  "cells": [
    {
      "cell_type": "code",
      "execution_count": null,
      "metadata": {
        "colab": {
          "base_uri": "https://localhost:8080/"
        },
        "id": "UTRhdwgByxBD",
        "outputId": "a716964a-1ea3-404f-8b22-41cf9cec0bec"
      },
      "outputs": [
        {
          "output_type": "stream",
          "name": "stdout",
          "text": [
            "\u001b[2K   \u001b[90m━━━━━━━━━━━━━━━━━━━━━━━━━━━━━━━━━━━━━━━━\u001b[0m \u001b[32m363.4/363.4 MB\u001b[0m \u001b[31m4.4 MB/s\u001b[0m eta \u001b[36m0:00:00\u001b[0m\n",
            "\u001b[2K   \u001b[90m━━━━━━━━━━━━━━━━━━━━━━━━━━━━━━━━━━━━━━━━\u001b[0m \u001b[32m13.8/13.8 MB\u001b[0m \u001b[31m75.7 MB/s\u001b[0m eta \u001b[36m0:00:00\u001b[0m\n",
            "\u001b[2K   \u001b[90m━━━━━━━━━━━━━━━━━━━━━━━━━━━━━━━━━━━━━━━━\u001b[0m \u001b[32m24.6/24.6 MB\u001b[0m \u001b[31m56.4 MB/s\u001b[0m eta \u001b[36m0:00:00\u001b[0m\n",
            "\u001b[2K   \u001b[90m━━━━━━━━━━━━━━━━━━━━━━━━━━━━━━━━━━━━━━━━\u001b[0m \u001b[32m883.7/883.7 kB\u001b[0m \u001b[31m48.9 MB/s\u001b[0m eta \u001b[36m0:00:00\u001b[0m\n",
            "\u001b[2K   \u001b[90m━━━━━━━━━━━━━━━━━━━━━━━━━━━━━━━━━━━━━━━━\u001b[0m \u001b[32m664.8/664.8 MB\u001b[0m \u001b[31m2.1 MB/s\u001b[0m eta \u001b[36m0:00:00\u001b[0m\n",
            "\u001b[2K   \u001b[90m━━━━━━━━━━━━━━━━━━━━━━━━━━━━━━━━━━━━━━━━\u001b[0m \u001b[32m211.5/211.5 MB\u001b[0m \u001b[31m5.5 MB/s\u001b[0m eta \u001b[36m0:00:00\u001b[0m\n",
            "\u001b[2K   \u001b[90m━━━━━━━━━━━━━━━━━━━━━━━━━━━━━━━━━━━━━━━━\u001b[0m \u001b[32m56.3/56.3 MB\u001b[0m \u001b[31m11.7 MB/s\u001b[0m eta \u001b[36m0:00:00\u001b[0m\n",
            "\u001b[2K   \u001b[90m━━━━━━━━━━━━━━━━━━━━━━━━━━━━━━━━━━━━━━━━\u001b[0m \u001b[32m127.9/127.9 MB\u001b[0m \u001b[31m8.5 MB/s\u001b[0m eta \u001b[36m0:00:00\u001b[0m\n",
            "\u001b[2K   \u001b[90m━━━━━━━━━━━━━━━━━━━━━━━━━━━━━━━━━━━━━━━━\u001b[0m \u001b[32m207.5/207.5 MB\u001b[0m \u001b[31m6.0 MB/s\u001b[0m eta \u001b[36m0:00:00\u001b[0m\n",
            "\u001b[2K   \u001b[90m━━━━━━━━━━━━━━━━━━━━━━━━━━━━━━━━━━━━━━━━\u001b[0m \u001b[32m21.1/21.1 MB\u001b[0m \u001b[31m62.4 MB/s\u001b[0m eta \u001b[36m0:00:00\u001b[0m\n",
            "\u001b[?25h"
          ]
        }
      ],
      "source": [
        "!pip install -q transformers einops accelerate scikit-learn pandas"
      ]
    },
    {
      "cell_type": "code",
      "source": [
        "import os\n",
        "import torch\n",
        "import pandas as pd\n",
        "import numpy as np\n",
        "from sklearn.preprocessing import StandardScaler\n",
        "from transformers import MambaConfig, MambaModel\n",
        "from torch import nn\n",
        "from torch.optim import AdamW\n",
        "from torch.utils.data import DataLoader, Dataset\n",
        "from datetime import datetime\n",
        "import joblib\n",
        "from tqdm import tqdm"
      ],
      "metadata": {
        "id": "xqmGfhmIE9Xm"
      },
      "execution_count": null,
      "outputs": []
    },
    {
      "cell_type": "code",
      "source": [
        "from google.colab import drive\n",
        "drive.mount('/content/drive')\n"
      ],
      "metadata": {
        "id": "SxtUD5lmFnr1",
        "colab": {
          "base_uri": "https://localhost:8080/"
        },
        "outputId": "cee42c67-3d74-4c32-cc52-5ae16d1d714b"
      },
      "execution_count": null,
      "outputs": [
        {
          "output_type": "stream",
          "name": "stdout",
          "text": [
            "Mounted at /content/drive\n"
          ]
        }
      ]
    },
    {
      "cell_type": "code",
      "source": [
        "device = torch.device(\"cuda\" if torch.cuda.is_available() else \"cpu\")\n",
        "print(f\"✅ Using device: {device}\")"
      ],
      "metadata": {
        "id": "jMkdt1xaGG-k",
        "colab": {
          "base_uri": "https://localhost:8080/"
        },
        "outputId": "179336ae-1845-4fa9-86ab-5d3564b5fbc3"
      },
      "execution_count": null,
      "outputs": [
        {
          "output_type": "stream",
          "name": "stdout",
          "text": [
            "✅ Using device: cuda\n"
          ]
        }
      ]
    },
    {
      "cell_type": "code",
      "source": [
        "from google.colab import files\n",
        "uploaded = files.upload()"
      ],
      "metadata": {
        "colab": {
          "base_uri": "https://localhost:8080/",
          "height": 73
        },
        "id": "L733d6qXMJ0H",
        "outputId": "e2fb2ea1-f795-4929-afd0-1cf9e7340503"
      },
      "execution_count": null,
      "outputs": [
        {
          "output_type": "display_data",
          "data": {
            "text/plain": [
              "<IPython.core.display.HTML object>"
            ],
            "text/html": [
              "\n",
              "     <input type=\"file\" id=\"files-1cb2b972-45c5-4372-a56b-c0b7ce84ff47\" name=\"files[]\" multiple disabled\n",
              "        style=\"border:none\" />\n",
              "     <output id=\"result-1cb2b972-45c5-4372-a56b-c0b7ce84ff47\">\n",
              "      Upload widget is only available when the cell has been executed in the\n",
              "      current browser session. Please rerun this cell to enable.\n",
              "      </output>\n",
              "      <script>// Copyright 2017 Google LLC\n",
              "//\n",
              "// Licensed under the Apache License, Version 2.0 (the \"License\");\n",
              "// you may not use this file except in compliance with the License.\n",
              "// You may obtain a copy of the License at\n",
              "//\n",
              "//      http://www.apache.org/licenses/LICENSE-2.0\n",
              "//\n",
              "// Unless required by applicable law or agreed to in writing, software\n",
              "// distributed under the License is distributed on an \"AS IS\" BASIS,\n",
              "// WITHOUT WARRANTIES OR CONDITIONS OF ANY KIND, either express or implied.\n",
              "// See the License for the specific language governing permissions and\n",
              "// limitations under the License.\n",
              "\n",
              "/**\n",
              " * @fileoverview Helpers for google.colab Python module.\n",
              " */\n",
              "(function(scope) {\n",
              "function span(text, styleAttributes = {}) {\n",
              "  const element = document.createElement('span');\n",
              "  element.textContent = text;\n",
              "  for (const key of Object.keys(styleAttributes)) {\n",
              "    element.style[key] = styleAttributes[key];\n",
              "  }\n",
              "  return element;\n",
              "}\n",
              "\n",
              "// Max number of bytes which will be uploaded at a time.\n",
              "const MAX_PAYLOAD_SIZE = 100 * 1024;\n",
              "\n",
              "function _uploadFiles(inputId, outputId) {\n",
              "  const steps = uploadFilesStep(inputId, outputId);\n",
              "  const outputElement = document.getElementById(outputId);\n",
              "  // Cache steps on the outputElement to make it available for the next call\n",
              "  // to uploadFilesContinue from Python.\n",
              "  outputElement.steps = steps;\n",
              "\n",
              "  return _uploadFilesContinue(outputId);\n",
              "}\n",
              "\n",
              "// This is roughly an async generator (not supported in the browser yet),\n",
              "// where there are multiple asynchronous steps and the Python side is going\n",
              "// to poll for completion of each step.\n",
              "// This uses a Promise to block the python side on completion of each step,\n",
              "// then passes the result of the previous step as the input to the next step.\n",
              "function _uploadFilesContinue(outputId) {\n",
              "  const outputElement = document.getElementById(outputId);\n",
              "  const steps = outputElement.steps;\n",
              "\n",
              "  const next = steps.next(outputElement.lastPromiseValue);\n",
              "  return Promise.resolve(next.value.promise).then((value) => {\n",
              "    // Cache the last promise value to make it available to the next\n",
              "    // step of the generator.\n",
              "    outputElement.lastPromiseValue = value;\n",
              "    return next.value.response;\n",
              "  });\n",
              "}\n",
              "\n",
              "/**\n",
              " * Generator function which is called between each async step of the upload\n",
              " * process.\n",
              " * @param {string} inputId Element ID of the input file picker element.\n",
              " * @param {string} outputId Element ID of the output display.\n",
              " * @return {!Iterable<!Object>} Iterable of next steps.\n",
              " */\n",
              "function* uploadFilesStep(inputId, outputId) {\n",
              "  const inputElement = document.getElementById(inputId);\n",
              "  inputElement.disabled = false;\n",
              "\n",
              "  const outputElement = document.getElementById(outputId);\n",
              "  outputElement.innerHTML = '';\n",
              "\n",
              "  const pickedPromise = new Promise((resolve) => {\n",
              "    inputElement.addEventListener('change', (e) => {\n",
              "      resolve(e.target.files);\n",
              "    });\n",
              "  });\n",
              "\n",
              "  const cancel = document.createElement('button');\n",
              "  inputElement.parentElement.appendChild(cancel);\n",
              "  cancel.textContent = 'Cancel upload';\n",
              "  const cancelPromise = new Promise((resolve) => {\n",
              "    cancel.onclick = () => {\n",
              "      resolve(null);\n",
              "    };\n",
              "  });\n",
              "\n",
              "  // Wait for the user to pick the files.\n",
              "  const files = yield {\n",
              "    promise: Promise.race([pickedPromise, cancelPromise]),\n",
              "    response: {\n",
              "      action: 'starting',\n",
              "    }\n",
              "  };\n",
              "\n",
              "  cancel.remove();\n",
              "\n",
              "  // Disable the input element since further picks are not allowed.\n",
              "  inputElement.disabled = true;\n",
              "\n",
              "  if (!files) {\n",
              "    return {\n",
              "      response: {\n",
              "        action: 'complete',\n",
              "      }\n",
              "    };\n",
              "  }\n",
              "\n",
              "  for (const file of files) {\n",
              "    const li = document.createElement('li');\n",
              "    li.append(span(file.name, {fontWeight: 'bold'}));\n",
              "    li.append(span(\n",
              "        `(${file.type || 'n/a'}) - ${file.size} bytes, ` +\n",
              "        `last modified: ${\n",
              "            file.lastModifiedDate ? file.lastModifiedDate.toLocaleDateString() :\n",
              "                                    'n/a'} - `));\n",
              "    const percent = span('0% done');\n",
              "    li.appendChild(percent);\n",
              "\n",
              "    outputElement.appendChild(li);\n",
              "\n",
              "    const fileDataPromise = new Promise((resolve) => {\n",
              "      const reader = new FileReader();\n",
              "      reader.onload = (e) => {\n",
              "        resolve(e.target.result);\n",
              "      };\n",
              "      reader.readAsArrayBuffer(file);\n",
              "    });\n",
              "    // Wait for the data to be ready.\n",
              "    let fileData = yield {\n",
              "      promise: fileDataPromise,\n",
              "      response: {\n",
              "        action: 'continue',\n",
              "      }\n",
              "    };\n",
              "\n",
              "    // Use a chunked sending to avoid message size limits. See b/62115660.\n",
              "    let position = 0;\n",
              "    do {\n",
              "      const length = Math.min(fileData.byteLength - position, MAX_PAYLOAD_SIZE);\n",
              "      const chunk = new Uint8Array(fileData, position, length);\n",
              "      position += length;\n",
              "\n",
              "      const base64 = btoa(String.fromCharCode.apply(null, chunk));\n",
              "      yield {\n",
              "        response: {\n",
              "          action: 'append',\n",
              "          file: file.name,\n",
              "          data: base64,\n",
              "        },\n",
              "      };\n",
              "\n",
              "      let percentDone = fileData.byteLength === 0 ?\n",
              "          100 :\n",
              "          Math.round((position / fileData.byteLength) * 100);\n",
              "      percent.textContent = `${percentDone}% done`;\n",
              "\n",
              "    } while (position < fileData.byteLength);\n",
              "  }\n",
              "\n",
              "  // All done.\n",
              "  yield {\n",
              "    response: {\n",
              "      action: 'complete',\n",
              "    }\n",
              "  };\n",
              "}\n",
              "\n",
              "scope.google = scope.google || {};\n",
              "scope.google.colab = scope.google.colab || {};\n",
              "scope.google.colab._files = {\n",
              "  _uploadFiles,\n",
              "  _uploadFilesContinue,\n",
              "};\n",
              "})(self);\n",
              "</script> "
            ]
          },
          "metadata": {}
        },
        {
          "output_type": "stream",
          "name": "stdout",
          "text": [
            "Saving Tesla.csv to Tesla.csv\n"
          ]
        }
      ]
    },
    {
      "cell_type": "code",
      "source": [
        "df = pd.read_csv('Tesla.csv')  # Or wherever your uploaded file is\n",
        "df['Date'] = pd.to_datetime(df['Date'])\n",
        "df = df.sort_values('Date').reset_index(drop=True)"
      ],
      "metadata": {
        "id": "bJaSp9PdNApO"
      },
      "execution_count": null,
      "outputs": []
    },
    {
      "cell_type": "code",
      "source": [
        "current_day_features = [\n",
        "    'day_of_week_sin', 'day_of_week_cos', 'day_of_year_sin', 'day_of_year_cos',\n",
        "    'lag_return_1d', 'lag_return_2d', 'lag_return_3d', 'lag_return_4d', 'lag_return_5d'\n",
        "]\n",
        "\n",
        "prev_day_features = [\n",
        "    'ema_12', 'ema_26', 'macd_line', 'macd_signal', 'rsi_14',\n",
        "    'SPY_ret', 'QQQ_ret', 'VIX'\n",
        "]\n",
        "\n",
        "target_column = 'log_return'\n",
        "date_column = 'Date'\n",
        "\n",
        "# === 🧠 Build Input Features with Correct Temporal Alignment ===\n",
        "features_aligned = []\n",
        "dates_aligned = []\n",
        "targets = []\n",
        "\n",
        "for t in range(1, len(df)):\n",
        "    cur_row = df.loc[t]\n",
        "    prev_row = df.loc[t - 1]\n",
        "\n",
        "    # Build aligned input vector\n",
        "    feature_vector = list(cur_row[current_day_features]) + list(prev_row[prev_day_features])\n",
        "    features_aligned.append(feature_vector)\n",
        "    dates_aligned.append(cur_row[date_column])\n",
        "    targets.append(cur_row[target_column])\n",
        "\n",
        "# Convert to numpy\n",
        "X_all = np.array(features_aligned)\n",
        "y_all = np.array(targets)\n",
        "dates_all = np.array(dates_aligned)\n",
        "\n",
        "print(f\"✅ Final shape: X={X_all.shape}, y={y_all.shape}\")"
      ],
      "metadata": {
        "colab": {
          "base_uri": "https://localhost:8080/"
        },
        "id": "ofcTW_P-MDM9",
        "outputId": "660363e7-623e-41ab-9956-8866c5867394"
      },
      "execution_count": null,
      "outputs": [
        {
          "output_type": "stream",
          "name": "stdout",
          "text": [
            "✅ Final shape: X=(2501, 17), y=(2501,)\n"
          ]
        }
      ]
    },
    {
      "cell_type": "code",
      "source": [
        "from sklearn.preprocessing import StandardScaler\n",
        "import joblib\n",
        "\n",
        "# === 🎯 Only scale first 2000 inputs ===\n",
        "X_base = X_all[:2000]\n",
        "\n",
        "# === 🧪 Fit the scaler on X_base only ===\n",
        "scaler = StandardScaler()\n",
        "scaler.fit(X_base)\n",
        "\n",
        "# === 💾 Save the scaler for later use ===\n",
        "scaler_path = \"/content/drive/MyDrive/Tesla_scaler.pkl\"\n",
        "joblib.dump(scaler, scaler_path)\n",
        "print(f\"✅ Scaler saved to: {scaler_path}\")"
      ],
      "metadata": {
        "colab": {
          "base_uri": "https://localhost:8080/"
        },
        "id": "EjJ61BKNN432",
        "outputId": "187ab764-b48b-4422-be42-438a524812c0"
      },
      "execution_count": null,
      "outputs": [
        {
          "output_type": "stream",
          "name": "stdout",
          "text": [
            "✅ Scaler saved to: /content/drive/MyDrive/Tesla_scaler.pkl\n"
          ]
        }
      ]
    },
    {
      "cell_type": "code",
      "source": [
        "import torch\n",
        "from torch import nn\n",
        "from transformers import MambaConfig, MambaModel\n",
        "\n",
        "# === ⚙️ Define the Mamba Regression Wrapper ===\n",
        "class MambaRegressionModel(nn.Module):\n",
        "    def __init__(self, input_dim, hidden_dim):\n",
        "        super().__init__()\n",
        "        self.config = MambaConfig(\n",
        "            hidden_size=hidden_dim,\n",
        "            num_hidden_layers=4,\n",
        "            intermediate_size=4 * hidden_dim,\n",
        "        )\n",
        "        self.backbone = MambaModel(self.config)\n",
        "        self.input_proj = nn.Linear(input_dim, hidden_dim)\n",
        "        self.reg_head = nn.Linear(hidden_dim, 1)\n",
        "\n",
        "    def forward(self, x):\n",
        "        x = self.input_proj(x)  # [batch, seq_len, hidden]\n",
        "        outputs = self.backbone(inputs_embeds=x)\n",
        "        last_hidden = outputs.last_hidden_state  # [batch, seq_len, hidden]\n",
        "        return self.reg_head(last_hidden[:, -1, :])  # [batch, 1]\n",
        "\n",
        "# === ✅ Instantiate model ===\n",
        "input_dim = 17\n",
        "hidden_dim = 64\n",
        "seq_len = 90\n",
        "\n",
        "model = MambaRegressionModel(input_dim, hidden_dim).to(device)"
      ],
      "metadata": {
        "colab": {
          "base_uri": "https://localhost:8080/"
        },
        "id": "Y9gnpyAKPM_e",
        "outputId": "3b8a98e1-6ed9-49e3-ff56-e1d3eff3f1d2"
      },
      "execution_count": null,
      "outputs": [
        {
          "output_type": "stream",
          "name": "stderr",
          "text": [
            "The fast path is not available because one of `(selective_state_update, selective_scan_fn, causal_conv1d_fn, causal_conv1d_update, mamba_inner_fn)` is None. Falling back to the sequential implementation of Mamba, as use_mambapy is set to False. To install follow https://github.com/state-spaces/mamba/#installation and https://github.com/Dao-AILab/causal-conv1d. For the mamba.py backend, follow https://github.com/alxndrTL/mamba.py.\n"
          ]
        }
      ]
    },
    {
      "cell_type": "code",
      "source": [
        "import torch\n",
        "from torch.utils.data import Dataset, DataLoader\n",
        "\n",
        "# === 🧱 Custom Dataset for Sliding Windows ===\n",
        "class TimeSeriesDataset(Dataset):\n",
        "    def __init__(self, X, y, seq_len):\n",
        "        self.X = X\n",
        "        self.y = y\n",
        "        self.seq_len = seq_len\n",
        "\n",
        "    def __len__(self):\n",
        "        return len(self.X) - self.seq_len\n",
        "\n",
        "    def __getitem__(self, idx):\n",
        "        x_seq = self.X[idx:idx + self.seq_len]  # [seq_len, feature_dim]\n",
        "        y_label = self.y[idx + self.seq_len]    # next-day target\n",
        "        return torch.tensor(x_seq, dtype=torch.float32), torch.tensor(y_label, dtype=torch.float32)\n",
        "\n",
        "# === 🔧 Prepare Dataset + Dataloader ===\n",
        "seq_len = 90\n",
        "train_dataset = TimeSeriesDataset(X_base, y_all[:2000], seq_len)\n",
        "train_loader = DataLoader(train_dataset, batch_size=32, shuffle=True)\n",
        "\n",
        "# === ⚙️ Optimizer & Loss ===\n",
        "optimizer = torch.optim.AdamW(model.parameters(), lr=1e-4)\n",
        "loss_fn = nn.MSELoss()\n",
        "\n",
        "# === 🔁 Training Loop ===\n",
        "model.train()\n",
        "epochs = 10\n",
        "\n",
        "for epoch in range(epochs):\n",
        "    total_loss = 0.0\n",
        "    for x_batch, y_batch in train_loader:\n",
        "        x_batch = x_batch.to(device)  # [batch, seq_len, feature_dim]\n",
        "        y_batch = y_batch.to(device).unsqueeze(1)  # [batch, 1]\n",
        "\n",
        "        optimizer.zero_grad()\n",
        "        preds = model(x_batch)  # [batch, 1]\n",
        "        loss = loss_fn(preds, y_batch)\n",
        "        loss.backward()\n",
        "        optimizer.step()\n",
        "\n",
        "        total_loss += loss.item()\n",
        "\n",
        "    print(f\"✅ Epoch {epoch+1}/{epochs} - Loss: {total_loss / len(train_loader):.6f}\")\n",
        "\n",
        "# === 💾 Save Model Weights and Config ===\n",
        "from transformers import MambaConfig\n",
        "\n",
        "# Create save directory in Google Drive\n",
        "model_save_path = \"/content/drive/MyDrive/Mamba_Base_Tesla_Checkpoint\"\n",
        "os.makedirs(model_save_path, exist_ok=True)\n",
        "\n",
        "# Save model weights\n",
        "torch.save(model.state_dict(), f\"{model_save_path}/pytorch_model.bin\")\n",
        "\n",
        "# Save config (for reloading structure later)\n",
        "model.config.save_pretrained(model_save_path)\n",
        "\n",
        "print(f\"✅ Base model saved to: {model_save_path}\")"
      ],
      "metadata": {
        "colab": {
          "base_uri": "https://localhost:8080/"
        },
        "id": "x4LDhOAmP4TJ",
        "outputId": "2940004f-9861-4751-9740-863c582a3671"
      },
      "execution_count": null,
      "outputs": [
        {
          "output_type": "stream",
          "name": "stdout",
          "text": [
            "✅ Epoch 1/10 - Loss: 0.055442\n",
            "✅ Epoch 2/10 - Loss: 0.004565\n",
            "✅ Epoch 3/10 - Loss: 0.002617\n",
            "✅ Epoch 4/10 - Loss: 0.002186\n",
            "✅ Epoch 5/10 - Loss: 0.001911\n",
            "✅ Epoch 6/10 - Loss: 0.001757\n",
            "✅ Epoch 7/10 - Loss: 0.001660\n",
            "✅ Epoch 8/10 - Loss: 0.001586\n",
            "✅ Epoch 9/10 - Loss: 0.001514\n",
            "✅ Epoch 10/10 - Loss: 0.001485\n",
            "✅ Base model saved to: /content/drive/MyDrive/Mamba_Base_Tesla_Checkpoint\n"
          ]
        }
      ]
    },
    {
      "cell_type": "code",
      "source": [
        "# === 💾 Save Model Weights and Config ===\n",
        "from transformers import MambaConfig\n",
        "\n",
        "# Create save directory in Google Drive\n",
        "model_save_path = \"/content/drive/MyDrive/Mamba_Base_Tesla_Checkpoint\"\n",
        "os.makedirs(model_save_path, exist_ok=True)\n",
        "\n",
        "# Save model weights\n",
        "torch.save(model.state_dict(), f\"{model_save_path}/pytorch_model.bin\")\n",
        "\n",
        "# Save config (for reloading structure later)\n",
        "model.config.save_pretrained(model_save_path)\n",
        "\n",
        "print(f\"✅ Base model saved to: {model_save_path}\")"
      ],
      "metadata": {
        "colab": {
          "base_uri": "https://localhost:8080/"
        },
        "id": "aXivxiy3R1Gv",
        "outputId": "378a32d4-8eb9-4c74-d8e0-daf1f1123b5d"
      },
      "execution_count": null,
      "outputs": [
        {
          "output_type": "stream",
          "name": "stdout",
          "text": [
            "✅ Base model saved to: /content/drive/MyDrive/Mamba_Base_Apple_Checkpoint\n"
          ]
        }
      ]
    },
    {
      "cell_type": "markdown",
      "source": [
        "Rolling Prediction"
      ],
      "metadata": {
        "id": "XJRLS1P8ovpr"
      }
    },
    {
      "cell_type": "code",
      "source": [
        "!pip install -q transformers einops accelerate scikit-learn pandas"
      ],
      "metadata": {
        "id": "TLbhQZ8Bq8Fl",
        "colab": {
          "base_uri": "https://localhost:8080/"
        },
        "outputId": "c3330ef7-0331-4a0b-f71a-5761be452795"
      },
      "execution_count": null,
      "outputs": [
        {
          "output_type": "stream",
          "name": "stdout",
          "text": [
            "\u001b[2K   \u001b[90m━━━━━━━━━━━━━━━━━━━━━━━━━━━━━━━━━━━━━━━━\u001b[0m \u001b[32m363.4/363.4 MB\u001b[0m \u001b[31m4.4 MB/s\u001b[0m eta \u001b[36m0:00:00\u001b[0m\n",
            "\u001b[2K   \u001b[90m━━━━━━━━━━━━━━━━━━━━━━━━━━━━━━━━━━━━━━━━\u001b[0m \u001b[32m13.8/13.8 MB\u001b[0m \u001b[31m61.9 MB/s\u001b[0m eta \u001b[36m0:00:00\u001b[0m\n",
            "\u001b[2K   \u001b[90m━━━━━━━━━━━━━━━━━━━━━━━━━━━━━━━━━━━━━━━━\u001b[0m \u001b[32m24.6/24.6 MB\u001b[0m \u001b[31m58.7 MB/s\u001b[0m eta \u001b[36m0:00:00\u001b[0m\n",
            "\u001b[2K   \u001b[90m━━━━━━━━━━━━━━━━━━━━━━━━━━━━━━━━━━━━━━━━\u001b[0m \u001b[32m883.7/883.7 kB\u001b[0m \u001b[31m35.4 MB/s\u001b[0m eta \u001b[36m0:00:00\u001b[0m\n",
            "\u001b[2K   \u001b[90m━━━━━━━━━━━━━━━━━━━━━━━━━━━━━━━━━━━━━━━━\u001b[0m \u001b[32m664.8/664.8 MB\u001b[0m \u001b[31m2.5 MB/s\u001b[0m eta \u001b[36m0:00:00\u001b[0m\n",
            "\u001b[2K   \u001b[90m━━━━━━━━━━━━━━━━━━━━━━━━━━━━━━━━━━━━━━━━\u001b[0m \u001b[32m211.5/211.5 MB\u001b[0m \u001b[31m5.3 MB/s\u001b[0m eta \u001b[36m0:00:00\u001b[0m\n",
            "\u001b[2K   \u001b[90m━━━━━━━━━━━━━━━━━━━━━━━━━━━━━━━━━━━━━━━━\u001b[0m \u001b[32m56.3/56.3 MB\u001b[0m \u001b[31m12.2 MB/s\u001b[0m eta \u001b[36m0:00:00\u001b[0m\n",
            "\u001b[2K   \u001b[90m━━━━━━━━━━━━━━━━━━━━━━━━━━━━━━━━━━━━━━━━\u001b[0m \u001b[32m127.9/127.9 MB\u001b[0m \u001b[31m9.5 MB/s\u001b[0m eta \u001b[36m0:00:00\u001b[0m\n",
            "\u001b[2K   \u001b[90m━━━━━━━━━━━━━━━━━━━━━━━━━━━━━━━━━━━━━━━━\u001b[0m \u001b[32m207.5/207.5 MB\u001b[0m \u001b[31m4.5 MB/s\u001b[0m eta \u001b[36m0:00:00\u001b[0m\n",
            "\u001b[2K   \u001b[90m━━━━━━━━━━━━━━━━━━━━━━━━━━━━━━━━━━━━━━━━\u001b[0m \u001b[32m21.1/21.1 MB\u001b[0m \u001b[31m57.2 MB/s\u001b[0m eta \u001b[36m0:00:00\u001b[0m\n",
            "\u001b[?25h"
          ]
        }
      ]
    },
    {
      "cell_type": "code",
      "source": [
        "import os\n",
        "import torch\n",
        "import pandas as pd\n",
        "import numpy as np\n",
        "from sklearn.preprocessing import StandardScaler\n",
        "from transformers import MambaConfig, MambaModel\n",
        "from torch import nn\n",
        "from torch.optim import AdamW\n",
        "from torch.utils.data import DataLoader, Dataset\n",
        "from datetime import datetime\n",
        "import joblib\n",
        "from tqdm import tqdm"
      ],
      "metadata": {
        "id": "ySONWqRArC58"
      },
      "execution_count": null,
      "outputs": []
    },
    {
      "cell_type": "code",
      "source": [
        "from google.colab import drive\n",
        "drive.mount('/content/drive')\n"
      ],
      "metadata": {
        "colab": {
          "base_uri": "https://localhost:8080/"
        },
        "id": "M3RBZibDrJyz",
        "outputId": "72701dc9-e377-4d8c-9cdc-3320f6e82b0a"
      },
      "execution_count": null,
      "outputs": [
        {
          "output_type": "stream",
          "name": "stdout",
          "text": [
            "Mounted at /content/drive\n"
          ]
        }
      ]
    },
    {
      "cell_type": "code",
      "source": [
        "from google.colab import files\n",
        "uploaded = files.upload()"
      ],
      "metadata": {
        "colab": {
          "base_uri": "https://localhost:8080/",
          "height": 73
        },
        "id": "Nm0xk2fOrKNc",
        "outputId": "f929fc73-8fe6-4e1b-dcdd-a641f6ffe851"
      },
      "execution_count": null,
      "outputs": [
        {
          "output_type": "display_data",
          "data": {
            "text/plain": [
              "<IPython.core.display.HTML object>"
            ],
            "text/html": [
              "\n",
              "     <input type=\"file\" id=\"files-344a7044-4f57-41a8-9067-f269f8ef13a9\" name=\"files[]\" multiple disabled\n",
              "        style=\"border:none\" />\n",
              "     <output id=\"result-344a7044-4f57-41a8-9067-f269f8ef13a9\">\n",
              "      Upload widget is only available when the cell has been executed in the\n",
              "      current browser session. Please rerun this cell to enable.\n",
              "      </output>\n",
              "      <script>// Copyright 2017 Google LLC\n",
              "//\n",
              "// Licensed under the Apache License, Version 2.0 (the \"License\");\n",
              "// you may not use this file except in compliance with the License.\n",
              "// You may obtain a copy of the License at\n",
              "//\n",
              "//      http://www.apache.org/licenses/LICENSE-2.0\n",
              "//\n",
              "// Unless required by applicable law or agreed to in writing, software\n",
              "// distributed under the License is distributed on an \"AS IS\" BASIS,\n",
              "// WITHOUT WARRANTIES OR CONDITIONS OF ANY KIND, either express or implied.\n",
              "// See the License for the specific language governing permissions and\n",
              "// limitations under the License.\n",
              "\n",
              "/**\n",
              " * @fileoverview Helpers for google.colab Python module.\n",
              " */\n",
              "(function(scope) {\n",
              "function span(text, styleAttributes = {}) {\n",
              "  const element = document.createElement('span');\n",
              "  element.textContent = text;\n",
              "  for (const key of Object.keys(styleAttributes)) {\n",
              "    element.style[key] = styleAttributes[key];\n",
              "  }\n",
              "  return element;\n",
              "}\n",
              "\n",
              "// Max number of bytes which will be uploaded at a time.\n",
              "const MAX_PAYLOAD_SIZE = 100 * 1024;\n",
              "\n",
              "function _uploadFiles(inputId, outputId) {\n",
              "  const steps = uploadFilesStep(inputId, outputId);\n",
              "  const outputElement = document.getElementById(outputId);\n",
              "  // Cache steps on the outputElement to make it available for the next call\n",
              "  // to uploadFilesContinue from Python.\n",
              "  outputElement.steps = steps;\n",
              "\n",
              "  return _uploadFilesContinue(outputId);\n",
              "}\n",
              "\n",
              "// This is roughly an async generator (not supported in the browser yet),\n",
              "// where there are multiple asynchronous steps and the Python side is going\n",
              "// to poll for completion of each step.\n",
              "// This uses a Promise to block the python side on completion of each step,\n",
              "// then passes the result of the previous step as the input to the next step.\n",
              "function _uploadFilesContinue(outputId) {\n",
              "  const outputElement = document.getElementById(outputId);\n",
              "  const steps = outputElement.steps;\n",
              "\n",
              "  const next = steps.next(outputElement.lastPromiseValue);\n",
              "  return Promise.resolve(next.value.promise).then((value) => {\n",
              "    // Cache the last promise value to make it available to the next\n",
              "    // step of the generator.\n",
              "    outputElement.lastPromiseValue = value;\n",
              "    return next.value.response;\n",
              "  });\n",
              "}\n",
              "\n",
              "/**\n",
              " * Generator function which is called between each async step of the upload\n",
              " * process.\n",
              " * @param {string} inputId Element ID of the input file picker element.\n",
              " * @param {string} outputId Element ID of the output display.\n",
              " * @return {!Iterable<!Object>} Iterable of next steps.\n",
              " */\n",
              "function* uploadFilesStep(inputId, outputId) {\n",
              "  const inputElement = document.getElementById(inputId);\n",
              "  inputElement.disabled = false;\n",
              "\n",
              "  const outputElement = document.getElementById(outputId);\n",
              "  outputElement.innerHTML = '';\n",
              "\n",
              "  const pickedPromise = new Promise((resolve) => {\n",
              "    inputElement.addEventListener('change', (e) => {\n",
              "      resolve(e.target.files);\n",
              "    });\n",
              "  });\n",
              "\n",
              "  const cancel = document.createElement('button');\n",
              "  inputElement.parentElement.appendChild(cancel);\n",
              "  cancel.textContent = 'Cancel upload';\n",
              "  const cancelPromise = new Promise((resolve) => {\n",
              "    cancel.onclick = () => {\n",
              "      resolve(null);\n",
              "    };\n",
              "  });\n",
              "\n",
              "  // Wait for the user to pick the files.\n",
              "  const files = yield {\n",
              "    promise: Promise.race([pickedPromise, cancelPromise]),\n",
              "    response: {\n",
              "      action: 'starting',\n",
              "    }\n",
              "  };\n",
              "\n",
              "  cancel.remove();\n",
              "\n",
              "  // Disable the input element since further picks are not allowed.\n",
              "  inputElement.disabled = true;\n",
              "\n",
              "  if (!files) {\n",
              "    return {\n",
              "      response: {\n",
              "        action: 'complete',\n",
              "      }\n",
              "    };\n",
              "  }\n",
              "\n",
              "  for (const file of files) {\n",
              "    const li = document.createElement('li');\n",
              "    li.append(span(file.name, {fontWeight: 'bold'}));\n",
              "    li.append(span(\n",
              "        `(${file.type || 'n/a'}) - ${file.size} bytes, ` +\n",
              "        `last modified: ${\n",
              "            file.lastModifiedDate ? file.lastModifiedDate.toLocaleDateString() :\n",
              "                                    'n/a'} - `));\n",
              "    const percent = span('0% done');\n",
              "    li.appendChild(percent);\n",
              "\n",
              "    outputElement.appendChild(li);\n",
              "\n",
              "    const fileDataPromise = new Promise((resolve) => {\n",
              "      const reader = new FileReader();\n",
              "      reader.onload = (e) => {\n",
              "        resolve(e.target.result);\n",
              "      };\n",
              "      reader.readAsArrayBuffer(file);\n",
              "    });\n",
              "    // Wait for the data to be ready.\n",
              "    let fileData = yield {\n",
              "      promise: fileDataPromise,\n",
              "      response: {\n",
              "        action: 'continue',\n",
              "      }\n",
              "    };\n",
              "\n",
              "    // Use a chunked sending to avoid message size limits. See b/62115660.\n",
              "    let position = 0;\n",
              "    do {\n",
              "      const length = Math.min(fileData.byteLength - position, MAX_PAYLOAD_SIZE);\n",
              "      const chunk = new Uint8Array(fileData, position, length);\n",
              "      position += length;\n",
              "\n",
              "      const base64 = btoa(String.fromCharCode.apply(null, chunk));\n",
              "      yield {\n",
              "        response: {\n",
              "          action: 'append',\n",
              "          file: file.name,\n",
              "          data: base64,\n",
              "        },\n",
              "      };\n",
              "\n",
              "      let percentDone = fileData.byteLength === 0 ?\n",
              "          100 :\n",
              "          Math.round((position / fileData.byteLength) * 100);\n",
              "      percent.textContent = `${percentDone}% done`;\n",
              "\n",
              "    } while (position < fileData.byteLength);\n",
              "  }\n",
              "\n",
              "  // All done.\n",
              "  yield {\n",
              "    response: {\n",
              "      action: 'complete',\n",
              "    }\n",
              "  };\n",
              "}\n",
              "\n",
              "scope.google = scope.google || {};\n",
              "scope.google.colab = scope.google.colab || {};\n",
              "scope.google.colab._files = {\n",
              "  _uploadFiles,\n",
              "  _uploadFilesContinue,\n",
              "};\n",
              "})(self);\n",
              "</script> "
            ]
          },
          "metadata": {}
        },
        {
          "output_type": "stream",
          "name": "stdout",
          "text": [
            "Saving Tesla.csv to Tesla.csv\n"
          ]
        }
      ]
    },
    {
      "cell_type": "code",
      "source": [
        "device = torch.device(\"cuda\" if torch.cuda.is_available() else \"cpu\")\n",
        "print(f\"Using device: {device}\")"
      ],
      "metadata": {
        "colab": {
          "base_uri": "https://localhost:8080/"
        },
        "id": "4MoCe-DJsdTt",
        "outputId": "9f81bb1f-6e88-4231-b54b-dca7eee7a17b"
      },
      "execution_count": null,
      "outputs": [
        {
          "output_type": "stream",
          "name": "stdout",
          "text": [
            "Using device: cuda\n"
          ]
        }
      ]
    },
    {
      "cell_type": "code",
      "source": [
        "# === 📄 Load Tesla.csv and Sort by Date ===\n",
        "df = pd.read_csv('/content/Tesla.csv')  # Upload again or place in /content\n",
        "df['Date'] = pd.to_datetime(df['Date'])\n",
        "df = df.sort_values('Date').reset_index(drop=True)\n",
        "\n",
        "# === ✅ Define Feature Groups and Target ===\n",
        "current_day_features = [\n",
        "    'day_of_week_sin', 'day_of_week_cos', 'day_of_year_sin', 'day_of_year_cos',\n",
        "    'lag_return_1d', 'lag_return_2d', 'lag_return_3d', 'lag_return_4d', 'lag_return_5d'\n",
        "]\n",
        "prev_day_features = [\n",
        "    'ema_12', 'ema_26', 'macd_line', 'macd_signal', 'rsi_14',\n",
        "    'SPY_ret', 'QQQ_ret', 'VIX'\n",
        "]\n",
        "target_column = 'log_return'\n",
        "date_column = 'Date'\n",
        "\n",
        "# === 🔄 Align Feature Matrix (Same as Training) ===\n",
        "features_aligned, targets, dates_aligned = [], [], []\n",
        "for t in range(1, len(df)):\n",
        "    cur_row = df.loc[t]\n",
        "    prev_row = df.loc[t - 1]\n",
        "    features = list(cur_row[current_day_features]) + list(prev_row[prev_day_features])\n",
        "    features_aligned.append(features)\n",
        "    targets.append(cur_row[target_column])\n",
        "    dates_aligned.append(cur_row[date_column])\n",
        "\n",
        "X_all = np.array(features_aligned)\n",
        "y_all = np.array(targets)\n",
        "dates_all = np.array(dates_aligned)\n",
        "\n",
        "print(f\"✅ Aligned features: X_all shape = {X_all.shape}, Dates from {dates_all[0]} to {dates_all[-1]}\")"
      ],
      "metadata": {
        "colab": {
          "base_uri": "https://localhost:8080/"
        },
        "id": "Uoobed96otgM",
        "outputId": "7b499dbe-9382-4ab3-bcdb-1c8c428a8593"
      },
      "execution_count": null,
      "outputs": [
        {
          "output_type": "stream",
          "name": "stdout",
          "text": [
            "✅ Aligned features: X_all shape = (2501, 17), Dates from 2015-01-26 00:00:00 to 2024-12-31 00:00:00\n"
          ]
        }
      ]
    },
    {
      "cell_type": "code",
      "source": [
        "# === 📈 Load the StandardScaler ===\n",
        "scaler_path = \"/content/drive/MyDrive/Tesla_scaler.pkl\"\n",
        "scaler = joblib.load(scaler_path)\n",
        "print(\"✅ Scaler loaded\")"
      ],
      "metadata": {
        "colab": {
          "base_uri": "https://localhost:8080/"
        },
        "id": "cPJE6OcHo1Rb",
        "outputId": "f197c618-8018-426e-c6c4-34896a99d240"
      },
      "execution_count": null,
      "outputs": [
        {
          "output_type": "stream",
          "name": "stdout",
          "text": [
            "✅ Scaler loaded\n"
          ]
        }
      ]
    },
    {
      "cell_type": "code",
      "source": [
        "# === 🧱 Define the Model Wrapper Again ===\n",
        "class MambaRegressionModel(nn.Module):\n",
        "    def __init__(self, input_dim, hidden_dim):\n",
        "        super().__init__()\n",
        "        self.config = MambaConfig.from_pretrained(\"/content/drive/MyDrive/Mamba_Base_Tesla_Checkpoint\")\n",
        "        self.backbone = MambaModel(self.config)\n",
        "        self.input_proj = nn.Linear(input_dim, self.config.hidden_size)\n",
        "        self.reg_head = nn.Linear(self.config.hidden_size, 1)\n",
        "\n",
        "    def forward(self, x):\n",
        "        x = self.input_proj(x)\n",
        "        outputs = self.backbone(inputs_embeds=x)\n",
        "        return self.reg_head(outputs.last_hidden_state[:, -1, :])  # Use final token"
      ],
      "metadata": {
        "id": "muxHJMugo7wD"
      },
      "execution_count": null,
      "outputs": []
    },
    {
      "cell_type": "code",
      "source": [
        "# === 🔁 Load Saved Base Model ===\n",
        "model = MambaRegressionModel(input_dim=17, hidden_dim=64).to(device)\n",
        "model.load_state_dict(torch.load(\"/content/drive/MyDrive/Mamba_Base_Tesla_Checkpoint/pytorch_model.bin\"))\n",
        "print(\"✅ Base model loaded\")"
      ],
      "metadata": {
        "colab": {
          "base_uri": "https://localhost:8080/"
        },
        "id": "PUTHzNH3pCfT",
        "outputId": "2feca67b-f523-490d-87fd-efed996d331e"
      },
      "execution_count": null,
      "outputs": [
        {
          "output_type": "stream",
          "name": "stderr",
          "text": [
            "The fast path is not available because one of `(selective_state_update, selective_scan_fn, causal_conv1d_fn, causal_conv1d_update, mamba_inner_fn)` is None. Falling back to the sequential implementation of Mamba, as use_mambapy is set to False. To install follow https://github.com/state-spaces/mamba/#installation and https://github.com/Dao-AILab/causal-conv1d. For the mamba.py backend, follow https://github.com/alxndrTL/mamba.py.\n"
          ]
        },
        {
          "output_type": "stream",
          "name": "stdout",
          "text": [
            "✅ Base model loaded\n"
          ]
        }
      ]
    },
    {
      "cell_type": "code",
      "source": [
        "# === 🔧 Rolling Configs ===\n",
        "seq_len = 90\n",
        "window_size = 500\n",
        "epochs_per_step = 2\n",
        "learning_rate = 1e-5\n",
        "output_csv = \"/content/drive/MyDrive/Tesla_Mamba_Prediction.csv\"\n",
        "\n",
        "# === 🗃️ Resume from Last Saved Point (if exists) ===\n",
        "if os.path.exists(output_csv):\n",
        "    existing_df = pd.read_csv(output_csv)\n",
        "    done_dates = set(pd.to_datetime(existing_df['Date']).dt.date)\n",
        "    print(f\"🔁 Resuming — already predicted {len(done_dates)} dates.\")\n",
        "else:\n",
        "    existing_df = pd.DataFrame(columns=[\"Date\", \"Predicted_Log_Return\"])\n",
        "    done_dates = set()\n",
        "\n"
      ],
      "metadata": {
        "id": "U8RaI9RXpYnc",
        "colab": {
          "base_uri": "https://localhost:8080/"
        },
        "outputId": "6e92a002-b883-4a9b-f52a-89602a1ad437"
      },
      "execution_count": null,
      "outputs": [
        {
          "output_type": "stream",
          "name": "stdout",
          "text": [
            "🔁 Resuming — already predicted 225 dates.\n"
          ]
        }
      ]
    },
    {
      "cell_type": "code",
      "source": [
        "# === 🧱 Helper: Create sliding sequences per window ===\n",
        "def generate_sequences(X, y, seq_len):\n",
        "    sequences, labels = [], []\n",
        "    for i in range(len(X) - seq_len):\n",
        "        sequences.append(X[i:i+seq_len])\n",
        "        labels.append(y[i+seq_len])\n",
        "    return np.array(sequences), np.array(labels)"
      ],
      "metadata": {
        "id": "KRzoi8H_ubPl"
      },
      "execution_count": null,
      "outputs": []
    },
    {
      "cell_type": "code",
      "source": [
        "# === 🔁 Rolling Loop ===\n",
        "results = []\n",
        "step = 0\n",
        "start_date = pd.to_datetime(\"2023-01-03\")"
      ],
      "metadata": {
        "id": "LCClA72GudKk"
      },
      "execution_count": null,
      "outputs": []
    },
    {
      "cell_type": "code",
      "source": [
        "for i in tqdm(range(len(dates_all))):\n",
        "    cur_date = dates_all[i]\n",
        "\n",
        "    # Skip if not enough data or already predicted\n",
        "    if cur_date.date() < start_date.date():\n",
        "        continue\n",
        "    if cur_date.date() in done_dates:\n",
        "        continue\n",
        "    if i < window_size:\n",
        "        continue\n",
        "\n",
        "    # === Build rolling window ===\n",
        "    X_window_raw = X_all[i - window_size:i]\n",
        "    y_window_raw = y_all[i - window_size:i]\n",
        "    X_scaled_window = scaler.transform(X_window_raw)\n",
        "\n",
        "    # === Precompute sequences and labels for this window ===\n",
        "    X_train_np, y_train_np = generate_sequences(X_scaled_window, y_window_raw, seq_len)\n",
        "    X_train = torch.tensor(X_train_np, dtype=torch.float32).to(device)\n",
        "    y_train = torch.tensor(y_train_np, dtype=torch.float32).unsqueeze(1).to(device)\n",
        "\n",
        "    # === Reload base model and fine-tune ===\n",
        "    model = MambaRegressionModel(input_dim=17, hidden_dim=64).to(device)\n",
        "    model.load_state_dict(torch.load(\"/content/drive/MyDrive/Mamba_Base_Tesla_Checkpoint/pytorch_model.bin\"))\n",
        "    model.train()\n",
        "\n",
        "    optimizer = torch.optim.AdamW(model.parameters(), lr=learning_rate)\n",
        "    loss_fn = nn.MSELoss()\n",
        "\n",
        "    for _ in range(epochs_per_step):\n",
        "        perm = torch.randperm(len(X_train))\n",
        "        for k in range(0, len(X_train), 32):\n",
        "            idx = perm[k:k+32]\n",
        "            x_batch = X_train[idx]\n",
        "            y_batch = y_train[idx]\n",
        "\n",
        "            optimizer.zero_grad()\n",
        "            preds = model(x_batch)\n",
        "            loss = loss_fn(preds, y_batch)\n",
        "            loss.backward()\n",
        "            optimizer.step()\n",
        "\n",
        "    # === Predict next-day return ===\n",
        "    X_today_scaled = scaler.transform([X_all[i]])\n",
        "    X_today_tensor = torch.tensor(X_today_scaled, dtype=torch.float32).unsqueeze(0).to(device)\n",
        "    model.eval()\n",
        "    with torch.no_grad():\n",
        "        pred = model(X_today_tensor).cpu().item()\n",
        "\n",
        "    results.append((cur_date.strftime(\"%Y-%m-%d\"), pred))\n",
        "    step += 1\n",
        "\n",
        "    # === Save every 50 steps ===\n",
        "    if step % 25 == 0 or i == len(dates_all) - 1:\n",
        "        temp_df = pd.DataFrame(results, columns=[\"Date\", \"Tesla_Mamba\"])\n",
        "        combined_df = pd.concat([existing_df, temp_df], ignore_index=True)\n",
        "        combined_df.to_csv(output_csv, index=False)\n",
        "        print(f\"💾 Saved {step} predictions to Drive\")\n",
        "        results = []\n",
        "        existing_df = combined_df\n",
        "\n",
        "    # === 🧹 Clean up model after prediction ===\n",
        "    del model\n",
        "    torch.cuda.empty_cache()"
      ],
      "metadata": {
        "colab": {
          "base_uri": "https://localhost:8080/"
        },
        "id": "idQw3vmFue50",
        "outputId": "352b9ad1-456b-405a-ab23-87e484819234"
      },
      "execution_count": null,
      "outputs": [
        {
          "output_type": "stream",
          "name": "stderr",
          "text": [
            " 90%|████████▉ | 2249/2501 [16:42<2:27:55, 35.22s/it]"
          ]
        },
        {
          "output_type": "stream",
          "name": "stdout",
          "text": [
            "💾 Saved 25 predictions to Drive\n"
          ]
        },
        {
          "output_type": "stream",
          "name": "stderr",
          "text": [
            " 91%|█████████ | 2274/2501 [33:16<2:30:18, 39.73s/it]"
          ]
        },
        {
          "output_type": "stream",
          "name": "stdout",
          "text": [
            "💾 Saved 50 predictions to Drive\n"
          ]
        },
        {
          "output_type": "stream",
          "name": "stderr",
          "text": [
            " 92%|█████████▏| 2299/2501 [49:50<2:13:41, 39.71s/it]"
          ]
        },
        {
          "output_type": "stream",
          "name": "stdout",
          "text": [
            "💾 Saved 75 predictions to Drive\n"
          ]
        },
        {
          "output_type": "stream",
          "name": "stderr",
          "text": [
            " 93%|█████████▎| 2324/2501 [1:06:23<1:57:08, 39.71s/it]"
          ]
        },
        {
          "output_type": "stream",
          "name": "stdout",
          "text": [
            "💾 Saved 100 predictions to Drive\n"
          ]
        },
        {
          "output_type": "stream",
          "name": "stderr",
          "text": [
            " 94%|█████████▍| 2349/2501 [1:22:56<1:40:44, 39.77s/it]"
          ]
        },
        {
          "output_type": "stream",
          "name": "stdout",
          "text": [
            "💾 Saved 125 predictions to Drive\n"
          ]
        },
        {
          "output_type": "stream",
          "name": "stderr",
          "text": [
            " 95%|█████████▍| 2374/2501 [1:39:29<1:23:58, 39.67s/it]"
          ]
        },
        {
          "output_type": "stream",
          "name": "stdout",
          "text": [
            "💾 Saved 150 predictions to Drive\n"
          ]
        },
        {
          "output_type": "stream",
          "name": "stderr",
          "text": [
            " 96%|█████████▌| 2399/2501 [1:56:01<1:07:27, 39.68s/it]"
          ]
        },
        {
          "output_type": "stream",
          "name": "stdout",
          "text": [
            "💾 Saved 175 predictions to Drive\n"
          ]
        },
        {
          "output_type": "stream",
          "name": "stderr",
          "text": [
            " 97%|█████████▋| 2424/2501 [2:12:33<50:54, 39.67s/it]"
          ]
        },
        {
          "output_type": "stream",
          "name": "stdout",
          "text": [
            "💾 Saved 200 predictions to Drive\n"
          ]
        },
        {
          "output_type": "stream",
          "name": "stderr",
          "text": [
            " 98%|█████████▊| 2449/2501 [2:29:06<34:29, 39.80s/it]"
          ]
        },
        {
          "output_type": "stream",
          "name": "stdout",
          "text": [
            "💾 Saved 225 predictions to Drive\n"
          ]
        },
        {
          "output_type": "stream",
          "name": "stderr",
          "text": [
            " 99%|█████████▉| 2474/2501 [2:45:38<17:52, 39.72s/it]"
          ]
        },
        {
          "output_type": "stream",
          "name": "stdout",
          "text": [
            "💾 Saved 250 predictions to Drive\n"
          ]
        },
        {
          "output_type": "stream",
          "name": "stderr",
          "text": [
            "100%|█████████▉| 2499/2501 [3:02:10<01:19, 39.68s/it]"
          ]
        },
        {
          "output_type": "stream",
          "name": "stdout",
          "text": [
            "💾 Saved 275 predictions to Drive\n"
          ]
        },
        {
          "output_type": "stream",
          "name": "stderr",
          "text": [
            "100%|██████████| 2501/2501 [3:03:30<00:00,  4.40s/it]"
          ]
        },
        {
          "output_type": "stream",
          "name": "stdout",
          "text": [
            "💾 Saved 277 predictions to Drive\n"
          ]
        },
        {
          "output_type": "stream",
          "name": "stderr",
          "text": [
            "\n"
          ]
        }
      ]
    },
    {
      "cell_type": "code",
      "source": [],
      "metadata": {
        "id": "cfyDRrjaO82S"
      },
      "execution_count": null,
      "outputs": []
    }
  ]
}