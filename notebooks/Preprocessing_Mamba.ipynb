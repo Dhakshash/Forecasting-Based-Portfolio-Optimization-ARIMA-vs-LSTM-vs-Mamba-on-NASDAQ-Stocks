{
  "nbformat": 4,
  "nbformat_minor": 0,
  "metadata": {
    "colab": {
      "provenance": []
    },
    "kernelspec": {
      "name": "python3",
      "display_name": "Python 3"
    },
    "language_info": {
      "name": "python"
    }
  },
  "cells": [
    {
      "cell_type": "code",
      "execution_count": null,
      "metadata": {
        "id": "5G5FdnNK1BI-"
      },
      "outputs": [],
      "source": [
        "import pandas as pd\n",
        "import numpy as np\n",
        "import os"
      ]
    },
    {
      "cell_type": "code",
      "source": [
        "from google.colab import drive\n",
        "drive.mount('/content/drive')"
      ],
      "metadata": {
        "colab": {
          "base_uri": "https://localhost:8080/"
        },
        "id": "c4SyKTty1CQ1",
        "outputId": "f81ef4e0-9567-4c66-961b-6b12c28bf730"
      },
      "execution_count": null,
      "outputs": [
        {
          "output_type": "stream",
          "name": "stdout",
          "text": [
            "Mounted at /content/drive\n"
          ]
        }
      ]
    },
    {
      "cell_type": "code",
      "source": [
        "#Define save path in Drive\n",
        "output_dir = \"/content/drive/MyDrive/AutoformerInput\"\n",
        "os.makedirs(output_dir, exist_ok=True)"
      ],
      "metadata": {
        "id": "oTSTgxnH1D_H"
      },
      "execution_count": null,
      "outputs": []
    },
    {
      "cell_type": "code",
      "source": [
        "from google.colab import files\n",
        "uploaded = files.upload()"
      ],
      "metadata": {
        "colab": {
          "base_uri": "https://localhost:8080/",
          "height": 142
        },
        "id": "owZSbbv61JYf",
        "outputId": "d9666abe-30f3-4201-f797-c672ee67620d"
      },
      "execution_count": null,
      "outputs": [
        {
          "output_type": "display_data",
          "data": {
            "text/plain": [
              "<IPython.core.display.HTML object>"
            ],
            "text/html": [
              "\n",
              "     <input type=\"file\" id=\"files-d2c3295b-0621-4d48-89e4-3b4149c25e7f\" name=\"files[]\" multiple disabled\n",
              "        style=\"border:none\" />\n",
              "     <output id=\"result-d2c3295b-0621-4d48-89e4-3b4149c25e7f\">\n",
              "      Upload widget is only available when the cell has been executed in the\n",
              "      current browser session. Please rerun this cell to enable.\n",
              "      </output>\n",
              "      <script>// Copyright 2017 Google LLC\n",
              "//\n",
              "// Licensed under the Apache License, Version 2.0 (the \"License\");\n",
              "// you may not use this file except in compliance with the License.\n",
              "// You may obtain a copy of the License at\n",
              "//\n",
              "//      http://www.apache.org/licenses/LICENSE-2.0\n",
              "//\n",
              "// Unless required by applicable law or agreed to in writing, software\n",
              "// distributed under the License is distributed on an \"AS IS\" BASIS,\n",
              "// WITHOUT WARRANTIES OR CONDITIONS OF ANY KIND, either express or implied.\n",
              "// See the License for the specific language governing permissions and\n",
              "// limitations under the License.\n",
              "\n",
              "/**\n",
              " * @fileoverview Helpers for google.colab Python module.\n",
              " */\n",
              "(function(scope) {\n",
              "function span(text, styleAttributes = {}) {\n",
              "  const element = document.createElement('span');\n",
              "  element.textContent = text;\n",
              "  for (const key of Object.keys(styleAttributes)) {\n",
              "    element.style[key] = styleAttributes[key];\n",
              "  }\n",
              "  return element;\n",
              "}\n",
              "\n",
              "// Max number of bytes which will be uploaded at a time.\n",
              "const MAX_PAYLOAD_SIZE = 100 * 1024;\n",
              "\n",
              "function _uploadFiles(inputId, outputId) {\n",
              "  const steps = uploadFilesStep(inputId, outputId);\n",
              "  const outputElement = document.getElementById(outputId);\n",
              "  // Cache steps on the outputElement to make it available for the next call\n",
              "  // to uploadFilesContinue from Python.\n",
              "  outputElement.steps = steps;\n",
              "\n",
              "  return _uploadFilesContinue(outputId);\n",
              "}\n",
              "\n",
              "// This is roughly an async generator (not supported in the browser yet),\n",
              "// where there are multiple asynchronous steps and the Python side is going\n",
              "// to poll for completion of each step.\n",
              "// This uses a Promise to block the python side on completion of each step,\n",
              "// then passes the result of the previous step as the input to the next step.\n",
              "function _uploadFilesContinue(outputId) {\n",
              "  const outputElement = document.getElementById(outputId);\n",
              "  const steps = outputElement.steps;\n",
              "\n",
              "  const next = steps.next(outputElement.lastPromiseValue);\n",
              "  return Promise.resolve(next.value.promise).then((value) => {\n",
              "    // Cache the last promise value to make it available to the next\n",
              "    // step of the generator.\n",
              "    outputElement.lastPromiseValue = value;\n",
              "    return next.value.response;\n",
              "  });\n",
              "}\n",
              "\n",
              "/**\n",
              " * Generator function which is called between each async step of the upload\n",
              " * process.\n",
              " * @param {string} inputId Element ID of the input file picker element.\n",
              " * @param {string} outputId Element ID of the output display.\n",
              " * @return {!Iterable<!Object>} Iterable of next steps.\n",
              " */\n",
              "function* uploadFilesStep(inputId, outputId) {\n",
              "  const inputElement = document.getElementById(inputId);\n",
              "  inputElement.disabled = false;\n",
              "\n",
              "  const outputElement = document.getElementById(outputId);\n",
              "  outputElement.innerHTML = '';\n",
              "\n",
              "  const pickedPromise = new Promise((resolve) => {\n",
              "    inputElement.addEventListener('change', (e) => {\n",
              "      resolve(e.target.files);\n",
              "    });\n",
              "  });\n",
              "\n",
              "  const cancel = document.createElement('button');\n",
              "  inputElement.parentElement.appendChild(cancel);\n",
              "  cancel.textContent = 'Cancel upload';\n",
              "  const cancelPromise = new Promise((resolve) => {\n",
              "    cancel.onclick = () => {\n",
              "      resolve(null);\n",
              "    };\n",
              "  });\n",
              "\n",
              "  // Wait for the user to pick the files.\n",
              "  const files = yield {\n",
              "    promise: Promise.race([pickedPromise, cancelPromise]),\n",
              "    response: {\n",
              "      action: 'starting',\n",
              "    }\n",
              "  };\n",
              "\n",
              "  cancel.remove();\n",
              "\n",
              "  // Disable the input element since further picks are not allowed.\n",
              "  inputElement.disabled = true;\n",
              "\n",
              "  if (!files) {\n",
              "    return {\n",
              "      response: {\n",
              "        action: 'complete',\n",
              "      }\n",
              "    };\n",
              "  }\n",
              "\n",
              "  for (const file of files) {\n",
              "    const li = document.createElement('li');\n",
              "    li.append(span(file.name, {fontWeight: 'bold'}));\n",
              "    li.append(span(\n",
              "        `(${file.type || 'n/a'}) - ${file.size} bytes, ` +\n",
              "        `last modified: ${\n",
              "            file.lastModifiedDate ? file.lastModifiedDate.toLocaleDateString() :\n",
              "                                    'n/a'} - `));\n",
              "    const percent = span('0% done');\n",
              "    li.appendChild(percent);\n",
              "\n",
              "    outputElement.appendChild(li);\n",
              "\n",
              "    const fileDataPromise = new Promise((resolve) => {\n",
              "      const reader = new FileReader();\n",
              "      reader.onload = (e) => {\n",
              "        resolve(e.target.result);\n",
              "      };\n",
              "      reader.readAsArrayBuffer(file);\n",
              "    });\n",
              "    // Wait for the data to be ready.\n",
              "    let fileData = yield {\n",
              "      promise: fileDataPromise,\n",
              "      response: {\n",
              "        action: 'continue',\n",
              "      }\n",
              "    };\n",
              "\n",
              "    // Use a chunked sending to avoid message size limits. See b/62115660.\n",
              "    let position = 0;\n",
              "    do {\n",
              "      const length = Math.min(fileData.byteLength - position, MAX_PAYLOAD_SIZE);\n",
              "      const chunk = new Uint8Array(fileData, position, length);\n",
              "      position += length;\n",
              "\n",
              "      const base64 = btoa(String.fromCharCode.apply(null, chunk));\n",
              "      yield {\n",
              "        response: {\n",
              "          action: 'append',\n",
              "          file: file.name,\n",
              "          data: base64,\n",
              "        },\n",
              "      };\n",
              "\n",
              "      let percentDone = fileData.byteLength === 0 ?\n",
              "          100 :\n",
              "          Math.round((position / fileData.byteLength) * 100);\n",
              "      percent.textContent = `${percentDone}% done`;\n",
              "\n",
              "    } while (position < fileData.byteLength);\n",
              "  }\n",
              "\n",
              "  // All done.\n",
              "  yield {\n",
              "    response: {\n",
              "      action: 'complete',\n",
              "    }\n",
              "  };\n",
              "}\n",
              "\n",
              "scope.google = scope.google || {};\n",
              "scope.google.colab = scope.google.colab || {};\n",
              "scope.google.colab._files = {\n",
              "  _uploadFiles,\n",
              "  _uploadFilesContinue,\n",
              "};\n",
              "})(self);\n",
              "</script> "
            ]
          },
          "metadata": {}
        },
        {
          "output_type": "stream",
          "name": "stdout",
          "text": [
            "Saving aligned_all_stock_features.csv to aligned_all_stock_features.csv\n",
            "Saving aligned_exogenous_features.csv to aligned_exogenous_features.csv\n",
            "Saving aligned_nasdaq10_log_returns.csv to aligned_nasdaq10_log_returns.csv\n"
          ]
        }
      ]
    },
    {
      "cell_type": "code",
      "source": [
        "features_df = pd.read_csv(\"aligned_all_stock_features.csv\", parse_dates=[\"Date\"])\n",
        "exogenous_df = pd.read_csv(\"aligned_exogenous_features.csv\", parse_dates=[\"Date\"])\n",
        "returns_df = pd.read_csv(\"aligned_nasdaq10_log_returns.csv\", parse_dates=[\"Date\"])\n"
      ],
      "metadata": {
        "id": "MvwgnZdC1PY6"
      },
      "execution_count": null,
      "outputs": []
    },
    {
      "cell_type": "code",
      "source": [
        "merged_df = features_df.merge(exogenous_df, on=\"Date\").merge(returns_df, on=\"Date\")\n"
      ],
      "metadata": {
        "id": "GkFZ8nNL1QTF"
      },
      "execution_count": null,
      "outputs": []
    },
    {
      "cell_type": "code",
      "source": [
        "#Add time encodings (based on \"Date\")\n",
        "merged_df[\"day_index\"] = np.arange(1, len(merged_df) + 1)\n",
        "merged_df[\"day_of_week\"] = merged_df[\"Date\"].dt.dayofweek\n",
        "merged_df[\"day_of_year\"] = merged_df[\"Date\"].dt.dayofyear\n",
        "merged_df[\"day_of_week_sin\"] = np.sin(2 * np.pi * merged_df[\"day_of_week\"] / 7)\n",
        "merged_df[\"day_of_week_cos\"] = np.cos(2 * np.pi * merged_df[\"day_of_week\"] / 7)\n",
        "merged_df[\"day_of_year_sin\"] = np.sin(2 * np.pi * merged_df[\"day_of_year\"] / 365)\n",
        "merged_df[\"day_of_year_cos\"] = np.cos(2 * np.pi * merged_df[\"day_of_year\"] / 365)\n",
        "merged_df.drop(columns=[\"day_of_week\", \"day_of_year\"], inplace=True)\n"
      ],
      "metadata": {
        "id": "Yz2DRTzC1bwD"
      },
      "execution_count": null,
      "outputs": []
    },
    {
      "cell_type": "code",
      "source": [
        "stock_name_map = {\n",
        "    'AAPL': 'Apple',\n",
        "    'AMZN': 'Amazon',\n",
        "    'MSFT': 'Microsoft',\n",
        "    'META': 'Meta',\n",
        "    'GOOGL': 'Google',\n",
        "    'COST': 'Costco',\n",
        "    'TSLA': 'Tesla',\n",
        "    'AMGN': 'Amgen',\n",
        "    'NFLX': 'Netflix',\n",
        "    'SBUX': 'Starbucks'\n",
        "}"
      ],
      "metadata": {
        "id": "eQLizcH881qJ"
      },
      "execution_count": null,
      "outputs": []
    },
    {
      "cell_type": "code",
      "source": [
        "for ticker, company in stock_name_map.items():\n",
        "    if ticker not in merged_df.columns:\n",
        "        print(f\"❌ Skipping {company} — ticker '{ticker}' not found in returns\")\n",
        "        continue\n",
        "\n",
        "    # Feature columns from company-prefixed features\n",
        "    feature_cols = [col for col in merged_df.columns if col.startswith(company + \"_\")]\n",
        "\n",
        "    # Final stock DataFrame\n",
        "    stock_df = merged_df[\n",
        "        [\"Date\", \"SPY_ret\", \"QQQ_ret\", \"VIX\",\n",
        "         \"day_index\", \"day_of_week_sin\", \"day_of_week_cos\",\n",
        "         \"day_of_year_sin\", \"day_of_year_cos\"]\n",
        "        + feature_cols + [ticker]\n",
        "    ].copy()\n",
        "\n",
        "    # Rename target column to match company name\n",
        "    stock_df.rename(columns={ticker: f\"{company}_log_return\"}, inplace=True)\n",
        "\n",
        "    # Strip company prefix from feature names\n",
        "    stock_df.columns = [col.replace(f\"{company}_\", \"\") if col.startswith(f\"{company}_\") else col for col in stock_df.columns]\n",
        "\n",
        "    if \"day_index\" in stock_df.columns:\n",
        "        stock_df.drop(columns=[\"day_index\"], inplace=True)\n",
        "\n",
        "    # Drop any missing values\n",
        "    stock_df.dropna(inplace=True)\n",
        "\n",
        "    # Save to Drive\n",
        "    output_path = os.path.join(output_dir, f\"{company}.csv\")\n",
        "    stock_df.to_csv(output_path, index=False)\n",
        "    print(f\"✅ Saved: {output_path}\")\n",
        "\n",
        "print(\"🎉 All per-stock files saved to Google Drive!\")"
      ],
      "metadata": {
        "colab": {
          "base_uri": "https://localhost:8080/"
        },
        "id": "j8rjD-ut84M3",
        "outputId": "10085183-afbd-437f-e111-5c8550fa4c1e"
      },
      "execution_count": null,
      "outputs": [
        {
          "output_type": "stream",
          "name": "stdout",
          "text": [
            "✅ Saved: /content/drive/MyDrive/AutoformerInput/Apple.csv\n",
            "✅ Saved: /content/drive/MyDrive/AutoformerInput/Amazon.csv\n",
            "✅ Saved: /content/drive/MyDrive/AutoformerInput/Microsoft.csv\n",
            "✅ Saved: /content/drive/MyDrive/AutoformerInput/Meta.csv\n",
            "✅ Saved: /content/drive/MyDrive/AutoformerInput/Google.csv\n",
            "✅ Saved: /content/drive/MyDrive/AutoformerInput/Costco.csv\n",
            "✅ Saved: /content/drive/MyDrive/AutoformerInput/Tesla.csv\n",
            "✅ Saved: /content/drive/MyDrive/AutoformerInput/Amgen.csv\n",
            "✅ Saved: /content/drive/MyDrive/AutoformerInput/Netflix.csv\n",
            "✅ Saved: /content/drive/MyDrive/AutoformerInput/Starbucks.csv\n",
            "🎉 All per-stock files saved to Google Drive!\n"
          ]
        }
      ]
    },
    {
      "cell_type": "markdown",
      "source": [
        "day_index"
      ],
      "metadata": {
        "id": "kSFygN2c_vXg"
      }
    }
  ]
}